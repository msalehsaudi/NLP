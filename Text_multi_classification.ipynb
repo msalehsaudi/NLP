{
  "nbformat": 4,
  "nbformat_minor": 0,
  "metadata": {
    "kernelspec": {
      "display_name": "Python 3",
      "language": "python",
      "name": "python3"
    },
    "language_info": {
      "codemirror_mode": {
        "name": "ipython",
        "version": 3
      },
      "file_extension": ".py",
      "mimetype": "text/x-python",
      "name": "python",
      "nbconvert_exporter": "python",
      "pygments_lexer": "ipython3",
      "version": "3.7.4"
    },
    "colab": {
      "name": "Text_multi_classification.ipynb",
      "provenance": []
    },
    "accelerator": "GPU"
  },
  "cells": [
    {
      "cell_type": "code",
      "metadata": {
        "id": "CuYjIEVsMhR3",
        "colab": {
          "base_uri": "https://localhost:8080/"
        },
        "outputId": "7fa29d45-b2d7-4d18-8c46-f738c1f15533"
      },
      "source": [
        "import numpy as np\n",
        "import pandas as pd\n",
        "import matplotlib.pyplot as plt\n",
        "import seaborn as sns\n",
        "\n",
        "%matplotlib inline\n",
        "import re\n",
        "import pickle\n",
        "import sklearn\n",
        "import pandas as pd\n",
        "import numpy as np\n",
        "# import holoviews as hv\n",
        "# import hvplot\n",
        "import nltk                                 #the [Natural Language Toolkit (NLTK)]\n",
        "# from bokeh.io import output_notebook\n",
        "# output_notebook()\n",
        "\n",
        "# from hvplot import pandas\n",
        "from pathlib import Path\n",
        "#hv.extension(\"bokeh\")\n",
        "\n",
        "pd.options.display.max_columns = 100\n",
        "pd.options.display.max_rows = 300\n",
        "pd.options.display.max_colwidth = 100\n",
        "np.set_printoptions(threshold=2000)\n",
        "from sklearn.model_selection import train_test_split\n",
        "from sklearn.feature_extraction.text import TfidfVectorizer\n",
        "from sklearn.linear_model import LogisticRegression\n",
        "from sklearn.svm import LinearSVC\n",
        "from sklearn.ensemble import RandomForestClassifier\n",
        "from sklearn.neural_network import MLPClassifier\n",
        "from sklearn.pipeline import Pipeline\n",
        "from sklearn.model_selection import GridSearchCV\n",
        "from xgboost import XGBClassifier\n",
        "from nltk.stem.snowball import SnowballStemmer\n",
        "from nltk.tokenize import word_tokenize\n",
        "from nltk.corpus import stopwords\n",
        "\n",
        "nltk.download('stopwords')    \n",
        "import matplotlib.pyplot as plt            # library for visualization\n",
        "import random                              # pseudo-random number generator\n",
        "import seaborn as sns\n",
        "%matplotlib inline"
      ],
      "execution_count": 2,
      "outputs": [
        {
          "output_type": "stream",
          "name": "stdout",
          "text": [
            "[nltk_data] Downloading package stopwords to /root/nltk_data...\n",
            "[nltk_data]   Unzipping corpora/stopwords.zip.\n"
          ]
        }
      ]
    },
    {
      "cell_type": "code",
      "metadata": {
        "id": "9jNeDh25Qbs5",
        "colab": {
          "base_uri": "https://localhost:8080/"
        },
        "outputId": "34158098-ec49-4c2e-cdd7-06f0bea263cd"
      },
      "source": [
        "pip install pyarrow"
      ],
      "execution_count": 3,
      "outputs": [
        {
          "output_type": "stream",
          "name": "stdout",
          "text": [
            "Requirement already satisfied: pyarrow in /usr/local/lib/python3.7/dist-packages (3.0.0)\n",
            "Requirement already satisfied: numpy>=1.16.6 in /usr/local/lib/python3.7/dist-packages (from pyarrow) (1.19.5)\n"
          ]
        }
      ]
    },
    {
      "cell_type": "code",
      "metadata": {
        "id": "3nflOBPLOyWE",
        "outputId": "a6e36ca1-5983-4e22-9583-372af7055510",
        "colab": {
          "base_uri": "https://localhost:8080/",
          "height": 1000
        }
      },
      "source": [
        "data_treatmeants = pd.read_excel('keywords_psoriasis_therapies.xlsx')\n",
        "data_treatmeants['keyword'] = data_treatmeants['keyword'].apply(lambda x: x.lower())\n",
        "data_treatmeants['category'] = data_treatmeants['category'].apply(lambda x: x.lower())\n",
        "data_treatmeants"
      ],
      "execution_count": 4,
      "outputs": [
        {
          "output_type": "execute_result",
          "data": {
            "text/html": [
              "<div>\n",
              "<style scoped>\n",
              "    .dataframe tbody tr th:only-of-type {\n",
              "        vertical-align: middle;\n",
              "    }\n",
              "\n",
              "    .dataframe tbody tr th {\n",
              "        vertical-align: top;\n",
              "    }\n",
              "\n",
              "    .dataframe thead th {\n",
              "        text-align: right;\n",
              "    }\n",
              "</style>\n",
              "<table border=\"1\" class=\"dataframe\">\n",
              "  <thead>\n",
              "    <tr style=\"text-align: right;\">\n",
              "      <th></th>\n",
              "      <th>keyword</th>\n",
              "      <th>category</th>\n",
              "    </tr>\n",
              "  </thead>\n",
              "  <tbody>\n",
              "    <tr>\n",
              "      <th>0</th>\n",
              "      <td>apremilast</td>\n",
              "      <td>andere systemische therapie</td>\n",
              "    </tr>\n",
              "    <tr>\n",
              "      <th>1</th>\n",
              "      <td>phosphodiesterase-hemmer</td>\n",
              "      <td>andere systemische therapie</td>\n",
              "    </tr>\n",
              "    <tr>\n",
              "      <th>2</th>\n",
              "      <td>otezla</td>\n",
              "      <td>andere systemische therapie</td>\n",
              "    </tr>\n",
              "    <tr>\n",
              "      <th>3</th>\n",
              "      <td>pde4</td>\n",
              "      <td>andere systemische therapie</td>\n",
              "    </tr>\n",
              "    <tr>\n",
              "      <th>4</th>\n",
              "      <td>inhibitor</td>\n",
              "      <td>andere systemische therapie</td>\n",
              "    </tr>\n",
              "    <tr>\n",
              "      <th>5</th>\n",
              "      <td>pde4-inhibitor</td>\n",
              "      <td>andere systemische therapie</td>\n",
              "    </tr>\n",
              "    <tr>\n",
              "      <th>6</th>\n",
              "      <td>ciclosporin</td>\n",
              "      <td>andere systemische therapie</td>\n",
              "    </tr>\n",
              "    <tr>\n",
              "      <th>7</th>\n",
              "      <td>cicloral</td>\n",
              "      <td>andere systemische therapie</td>\n",
              "    </tr>\n",
              "    <tr>\n",
              "      <th>8</th>\n",
              "      <td>immunosporin</td>\n",
              "      <td>andere systemische therapie</td>\n",
              "    </tr>\n",
              "    <tr>\n",
              "      <th>9</th>\n",
              "      <td>fumarsäureester</td>\n",
              "      <td>andere systemische therapie</td>\n",
              "    </tr>\n",
              "    <tr>\n",
              "      <th>10</th>\n",
              "      <td>fumarsäuredimethylester</td>\n",
              "      <td>andere systemische therapie</td>\n",
              "    </tr>\n",
              "    <tr>\n",
              "      <th>11</th>\n",
              "      <td>fumaderm</td>\n",
              "      <td>andere systemische therapie</td>\n",
              "    </tr>\n",
              "    <tr>\n",
              "      <th>12</th>\n",
              "      <td>ethylhydrogenfumarat</td>\n",
              "      <td>andere systemische therapie</td>\n",
              "    </tr>\n",
              "    <tr>\n",
              "      <th>13</th>\n",
              "      <td>retinoid</td>\n",
              "      <td>andere systemische therapie</td>\n",
              "    </tr>\n",
              "    <tr>\n",
              "      <th>14</th>\n",
              "      <td>retinol</td>\n",
              "      <td>andere systemische therapie</td>\n",
              "    </tr>\n",
              "    <tr>\n",
              "      <th>15</th>\n",
              "      <td>vitamin a</td>\n",
              "      <td>andere systemische therapie</td>\n",
              "    </tr>\n",
              "    <tr>\n",
              "      <th>16</th>\n",
              "      <td>acitretin</td>\n",
              "      <td>andere systemische therapie</td>\n",
              "    </tr>\n",
              "    <tr>\n",
              "      <th>17</th>\n",
              "      <td>b12</td>\n",
              "      <td>andere topische therapie</td>\n",
              "    </tr>\n",
              "    <tr>\n",
              "      <th>18</th>\n",
              "      <td>cyanocobalamin</td>\n",
              "      <td>andere topische therapie</td>\n",
              "    </tr>\n",
              "    <tr>\n",
              "      <th>19</th>\n",
              "      <td>avocadoöl</td>\n",
              "      <td>andere topische therapie</td>\n",
              "    </tr>\n",
              "    <tr>\n",
              "      <th>20</th>\n",
              "      <td>dithranol</td>\n",
              "      <td>andere topische therapie</td>\n",
              "    </tr>\n",
              "    <tr>\n",
              "      <th>21</th>\n",
              "      <td>cignolin</td>\n",
              "      <td>andere topische therapie</td>\n",
              "    </tr>\n",
              "    <tr>\n",
              "      <th>22</th>\n",
              "      <td>anthralin</td>\n",
              "      <td>andere topische therapie</td>\n",
              "    </tr>\n",
              "    <tr>\n",
              "      <th>23</th>\n",
              "      <td>psoradexan</td>\n",
              "      <td>andere topische therapie</td>\n",
              "    </tr>\n",
              "    <tr>\n",
              "      <th>24</th>\n",
              "      <td>salizylsäure</td>\n",
              "      <td>andere topische therapie</td>\n",
              "    </tr>\n",
              "    <tr>\n",
              "      <th>25</th>\n",
              "      <td>spirsäure</td>\n",
              "      <td>andere topische therapie</td>\n",
              "    </tr>\n",
              "    <tr>\n",
              "      <th>26</th>\n",
              "      <td>calcipotriol</td>\n",
              "      <td>andere topische therapie</td>\n",
              "    </tr>\n",
              "    <tr>\n",
              "      <th>27</th>\n",
              "      <td>tacalcitol</td>\n",
              "      <td>andere topische therapie</td>\n",
              "    </tr>\n",
              "    <tr>\n",
              "      <th>28</th>\n",
              "      <td>vitamin+d</td>\n",
              "      <td>andere topische therapie</td>\n",
              "    </tr>\n",
              "    <tr>\n",
              "      <th>29</th>\n",
              "      <td>badetherapie</td>\n",
              "      <td>badetherapie</td>\n",
              "    </tr>\n",
              "    <tr>\n",
              "      <th>30</th>\n",
              "      <td>balneo</td>\n",
              "      <td>badetherapie</td>\n",
              "    </tr>\n",
              "    <tr>\n",
              "      <th>31</th>\n",
              "      <td>fango</td>\n",
              "      <td>badetherapie</td>\n",
              "    </tr>\n",
              "    <tr>\n",
              "      <th>32</th>\n",
              "      <td>fischtherapie</td>\n",
              "      <td>badetherapie</td>\n",
              "    </tr>\n",
              "    <tr>\n",
              "      <th>33</th>\n",
              "      <td>garra rufa</td>\n",
              "      <td>badetherapie</td>\n",
              "    </tr>\n",
              "    <tr>\n",
              "      <th>34</th>\n",
              "      <td>kangalfische</td>\n",
              "      <td>badetherapie</td>\n",
              "    </tr>\n",
              "    <tr>\n",
              "      <th>35</th>\n",
              "      <td>knabberfische</td>\n",
              "      <td>badetherapie</td>\n",
              "    </tr>\n",
              "    <tr>\n",
              "      <th>36</th>\n",
              "      <td>saugbarbe</td>\n",
              "      <td>badetherapie</td>\n",
              "    </tr>\n",
              "    <tr>\n",
              "      <th>37</th>\n",
              "      <td>salzbäder</td>\n",
              "      <td>badetherapie</td>\n",
              "    </tr>\n",
              "    <tr>\n",
              "      <th>38</th>\n",
              "      <td>salzbad</td>\n",
              "      <td>badetherapie</td>\n",
              "    </tr>\n",
              "    <tr>\n",
              "      <th>39</th>\n",
              "      <td>sole</td>\n",
              "      <td>badetherapie</td>\n",
              "    </tr>\n",
              "    <tr>\n",
              "      <th>40</th>\n",
              "      <td>vulkanwasser</td>\n",
              "      <td>badetherapie</td>\n",
              "    </tr>\n",
              "    <tr>\n",
              "      <th>41</th>\n",
              "      <td>adalimumab</td>\n",
              "      <td>biologicals</td>\n",
              "    </tr>\n",
              "    <tr>\n",
              "      <th>42</th>\n",
              "      <td>humira</td>\n",
              "      <td>biologicals</td>\n",
              "    </tr>\n",
              "    <tr>\n",
              "      <th>43</th>\n",
              "      <td>igg1</td>\n",
              "      <td>biologicals</td>\n",
              "    </tr>\n",
              "    <tr>\n",
              "      <th>44</th>\n",
              "      <td>bimekizumab</td>\n",
              "      <td>biologicals</td>\n",
              "    </tr>\n",
              "    <tr>\n",
              "      <th>45</th>\n",
              "      <td>brodalumab</td>\n",
              "      <td>biologicals</td>\n",
              "    </tr>\n",
              "    <tr>\n",
              "      <th>46</th>\n",
              "      <td>kyntheum</td>\n",
              "      <td>biologicals</td>\n",
              "    </tr>\n",
              "    <tr>\n",
              "      <th>47</th>\n",
              "      <td>etanercept</td>\n",
              "      <td>biologicals</td>\n",
              "    </tr>\n",
              "    <tr>\n",
              "      <th>48</th>\n",
              "      <td>fusionsproteine</td>\n",
              "      <td>biologicals</td>\n",
              "    </tr>\n",
              "    <tr>\n",
              "      <th>49</th>\n",
              "      <td>enbrel</td>\n",
              "      <td>biologicals</td>\n",
              "    </tr>\n",
              "    <tr>\n",
              "      <th>50</th>\n",
              "      <td>guselkumab</td>\n",
              "      <td>biologicals</td>\n",
              "    </tr>\n",
              "    <tr>\n",
              "      <th>51</th>\n",
              "      <td>tremfya</td>\n",
              "      <td>biologicals</td>\n",
              "    </tr>\n",
              "    <tr>\n",
              "      <th>52</th>\n",
              "      <td>infliximab</td>\n",
              "      <td>biologicals</td>\n",
              "    </tr>\n",
              "    <tr>\n",
              "      <th>53</th>\n",
              "      <td>remicade</td>\n",
              "      <td>biologicals</td>\n",
              "    </tr>\n",
              "    <tr>\n",
              "      <th>54</th>\n",
              "      <td>ixekizumab</td>\n",
              "      <td>biologicals</td>\n",
              "    </tr>\n",
              "    <tr>\n",
              "      <th>55</th>\n",
              "      <td>taltz</td>\n",
              "      <td>biologicals</td>\n",
              "    </tr>\n",
              "    <tr>\n",
              "      <th>56</th>\n",
              "      <td>talz</td>\n",
              "      <td>biologicals</td>\n",
              "    </tr>\n",
              "    <tr>\n",
              "      <th>57</th>\n",
              "      <td>risankizumab</td>\n",
              "      <td>biologicals</td>\n",
              "    </tr>\n",
              "    <tr>\n",
              "      <th>58</th>\n",
              "      <td>skyrizi</td>\n",
              "      <td>biologicals</td>\n",
              "    </tr>\n",
              "    <tr>\n",
              "      <th>59</th>\n",
              "      <td>secukinumab</td>\n",
              "      <td>biologicals</td>\n",
              "    </tr>\n",
              "    <tr>\n",
              "      <th>60</th>\n",
              "      <td>cosentyx</td>\n",
              "      <td>biologicals</td>\n",
              "    </tr>\n",
              "    <tr>\n",
              "      <th>61</th>\n",
              "      <td>costentix</td>\n",
              "      <td>biologicals</td>\n",
              "    </tr>\n",
              "    <tr>\n",
              "      <th>62</th>\n",
              "      <td>costenyx</td>\n",
              "      <td>biologicals</td>\n",
              "    </tr>\n",
              "    <tr>\n",
              "      <th>63</th>\n",
              "      <td>ain457</td>\n",
              "      <td>biologicals</td>\n",
              "    </tr>\n",
              "    <tr>\n",
              "      <th>64</th>\n",
              "      <td>anti-interleukin</td>\n",
              "      <td>biologicals</td>\n",
              "    </tr>\n",
              "    <tr>\n",
              "      <th>65</th>\n",
              "      <td>interleukin</td>\n",
              "      <td>biologicals</td>\n",
              "    </tr>\n",
              "    <tr>\n",
              "      <th>66</th>\n",
              "      <td>tildrakizumab</td>\n",
              "      <td>biologicals</td>\n",
              "    </tr>\n",
              "    <tr>\n",
              "      <th>67</th>\n",
              "      <td>ilumetri</td>\n",
              "      <td>biologicals</td>\n",
              "    </tr>\n",
              "    <tr>\n",
              "      <th>68</th>\n",
              "      <td>ilumya</td>\n",
              "      <td>biologicals</td>\n",
              "    </tr>\n",
              "    <tr>\n",
              "      <th>69</th>\n",
              "      <td>tnf-blocker</td>\n",
              "      <td>biologicals</td>\n",
              "    </tr>\n",
              "    <tr>\n",
              "      <th>70</th>\n",
              "      <td>tnf</td>\n",
              "      <td>biologicals</td>\n",
              "    </tr>\n",
              "    <tr>\n",
              "      <th>71</th>\n",
              "      <td>ustekinumab</td>\n",
              "      <td>biologicals</td>\n",
              "    </tr>\n",
              "    <tr>\n",
              "      <th>72</th>\n",
              "      <td>stelara</td>\n",
              "      <td>biologicals</td>\n",
              "    </tr>\n",
              "    <tr>\n",
              "      <th>73</th>\n",
              "      <td>kortison</td>\n",
              "      <td>kortison</td>\n",
              "    </tr>\n",
              "    <tr>\n",
              "      <th>74</th>\n",
              "      <td>cortison</td>\n",
              "      <td>kortison</td>\n",
              "    </tr>\n",
              "    <tr>\n",
              "      <th>75</th>\n",
              "      <td>betagalen</td>\n",
              "      <td>kortison (topisch)</td>\n",
              "    </tr>\n",
              "    <tr>\n",
              "      <th>76</th>\n",
              "      <td>clobetasol</td>\n",
              "      <td>kortison (topisch)</td>\n",
              "    </tr>\n",
              "    <tr>\n",
              "      <th>77</th>\n",
              "      <td>dermatop</td>\n",
              "      <td>kortison (topisch)</td>\n",
              "    </tr>\n",
              "    <tr>\n",
              "      <th>78</th>\n",
              "      <td>enstilar</td>\n",
              "      <td>kortison (topisch)</td>\n",
              "    </tr>\n",
              "    <tr>\n",
              "      <th>79</th>\n",
              "      <td>kortisoncreme</td>\n",
              "      <td>kortison (topisch)</td>\n",
              "    </tr>\n",
              "    <tr>\n",
              "      <th>80</th>\n",
              "      <td>cortisoncreme</td>\n",
              "      <td>kortison (topisch)</td>\n",
              "    </tr>\n",
              "    <tr>\n",
              "      <th>81</th>\n",
              "      <td>kortisonsalbe</td>\n",
              "      <td>kortison (topisch)</td>\n",
              "    </tr>\n",
              "    <tr>\n",
              "      <th>82</th>\n",
              "      <td>cortisonsalbe</td>\n",
              "      <td>kortison (topisch)</td>\n",
              "    </tr>\n",
              "    <tr>\n",
              "      <th>83</th>\n",
              "      <td>momegalen</td>\n",
              "      <td>kortison (topisch)</td>\n",
              "    </tr>\n",
              "    <tr>\n",
              "      <th>84</th>\n",
              "      <td>neyzar</td>\n",
              "      <td>kortison (topisch)</td>\n",
              "    </tr>\n",
              "    <tr>\n",
              "      <th>85</th>\n",
              "      <td>silkis</td>\n",
              "      <td>kortison (topisch)</td>\n",
              "    </tr>\n",
              "    <tr>\n",
              "      <th>86</th>\n",
              "      <td>triamgalen</td>\n",
              "      <td>kortison (topisch)</td>\n",
              "    </tr>\n",
              "    <tr>\n",
              "      <th>87</th>\n",
              "      <td>xamiol</td>\n",
              "      <td>kortison (topisch)</td>\n",
              "    </tr>\n",
              "    <tr>\n",
              "      <th>88</th>\n",
              "      <td>lasertherapie</td>\n",
              "      <td>lichttherapie</td>\n",
              "    </tr>\n",
              "    <tr>\n",
              "      <th>89</th>\n",
              "      <td>excimer-laser</td>\n",
              "      <td>lichttherapie</td>\n",
              "    </tr>\n",
              "    <tr>\n",
              "      <th>90</th>\n",
              "      <td>excimer</td>\n",
              "      <td>lichttherapie</td>\n",
              "    </tr>\n",
              "    <tr>\n",
              "      <th>91</th>\n",
              "      <td>xenon</td>\n",
              "      <td>lichttherapie</td>\n",
              "    </tr>\n",
              "    <tr>\n",
              "      <th>92</th>\n",
              "      <td>chlorid</td>\n",
              "      <td>lichttherapie</td>\n",
              "    </tr>\n",
              "    <tr>\n",
              "      <th>93</th>\n",
              "      <td>gas</td>\n",
              "      <td>lichttherapie</td>\n",
              "    </tr>\n",
              "    <tr>\n",
              "      <th>94</th>\n",
              "      <td>xenon+chlorid+gas</td>\n",
              "      <td>lichttherapie</td>\n",
              "    </tr>\n",
              "    <tr>\n",
              "      <th>95</th>\n",
              "      <td>led</td>\n",
              "      <td>lichttherapie</td>\n",
              "    </tr>\n",
              "    <tr>\n",
              "      <th>96</th>\n",
              "      <td>blaue+licht</td>\n",
              "      <td>lichttherapie</td>\n",
              "    </tr>\n",
              "    <tr>\n",
              "      <th>97</th>\n",
              "      <td>lichttherapie</td>\n",
              "      <td>lichttherapie</td>\n",
              "    </tr>\n",
              "    <tr>\n",
              "      <th>98</th>\n",
              "      <td>phototherapie</td>\n",
              "      <td>lichttherapie</td>\n",
              "    </tr>\n",
              "    <tr>\n",
              "      <th>99</th>\n",
              "      <td>schmalspektrum</td>\n",
              "      <td>lichttherapie</td>\n",
              "    </tr>\n",
              "    <tr>\n",
              "      <th>100</th>\n",
              "      <td>ultraviolettstrahlung</td>\n",
              "      <td>lichttherapie</td>\n",
              "    </tr>\n",
              "    <tr>\n",
              "      <th>101</th>\n",
              "      <td>strahlung</td>\n",
              "      <td>lichttherapie</td>\n",
              "    </tr>\n",
              "    <tr>\n",
              "      <th>102</th>\n",
              "      <td>bestrahlung</td>\n",
              "      <td>lichttherapie</td>\n",
              "    </tr>\n",
              "    <tr>\n",
              "      <th>103</th>\n",
              "      <td>uv</td>\n",
              "      <td>lichttherapie</td>\n",
              "    </tr>\n",
              "    <tr>\n",
              "      <th>104</th>\n",
              "      <td>uv+bestrahlung</td>\n",
              "      <td>lichttherapie</td>\n",
              "    </tr>\n",
              "    <tr>\n",
              "      <th>105</th>\n",
              "      <td>sup</td>\n",
              "      <td>lichttherapie</td>\n",
              "    </tr>\n",
              "    <tr>\n",
              "      <th>106</th>\n",
              "      <td>puva</td>\n",
              "      <td>lichttherapie</td>\n",
              "    </tr>\n",
              "    <tr>\n",
              "      <th>107</th>\n",
              "      <td>psoralen-uva</td>\n",
              "      <td>lichttherapie</td>\n",
              "    </tr>\n",
              "    <tr>\n",
              "      <th>108</th>\n",
              "      <td>psoralen</td>\n",
              "      <td>lichttherapie</td>\n",
              "    </tr>\n",
              "    <tr>\n",
              "      <th>109</th>\n",
              "      <td>methotrexat</td>\n",
              "      <td>methotrexat</td>\n",
              "    </tr>\n",
              "    <tr>\n",
              "      <th>110</th>\n",
              "      <td>mtx</td>\n",
              "      <td>methotrexat</td>\n",
              "    </tr>\n",
              "    <tr>\n",
              "      <th>111</th>\n",
              "      <td>bendatrexat</td>\n",
              "      <td>methotrexat</td>\n",
              "    </tr>\n",
              "    <tr>\n",
              "      <th>112</th>\n",
              "      <td>lantarel</td>\n",
              "      <td>methotrexat</td>\n",
              "    </tr>\n",
              "    <tr>\n",
              "      <th>113</th>\n",
              "      <td>metex</td>\n",
              "      <td>methotrexat</td>\n",
              "    </tr>\n",
              "    <tr>\n",
              "      <th>114</th>\n",
              "      <td>neotrexat</td>\n",
              "      <td>methotrexat</td>\n",
              "    </tr>\n",
              "    <tr>\n",
              "      <th>115</th>\n",
              "      <td>ayurveda</td>\n",
              "      <td>naturheilmittel</td>\n",
              "    </tr>\n",
              "    <tr>\n",
              "      <th>116</th>\n",
              "      <td>färberwurzel</td>\n",
              "      <td>naturheilmittel</td>\n",
              "    </tr>\n",
              "    <tr>\n",
              "      <th>117</th>\n",
              "      <td>gelbwurz</td>\n",
              "      <td>naturheilmittel</td>\n",
              "    </tr>\n",
              "    <tr>\n",
              "      <th>118</th>\n",
              "      <td>horvitrigon</td>\n",
              "      <td>naturheilmittel</td>\n",
              "    </tr>\n",
              "    <tr>\n",
              "      <th>119</th>\n",
              "      <td>horvi</td>\n",
              "      <td>naturheilmittel</td>\n",
              "    </tr>\n",
              "    <tr>\n",
              "      <th>120</th>\n",
              "      <td>horvizym</td>\n",
              "      <td>naturheilmittel</td>\n",
              "    </tr>\n",
              "    <tr>\n",
              "      <th>121</th>\n",
              "      <td>indrajao</td>\n",
              "      <td>naturheilmittel</td>\n",
              "    </tr>\n",
              "    <tr>\n",
              "      <th>122</th>\n",
              "      <td>iqlind</td>\n",
              "      <td>naturheilmittel</td>\n",
              "    </tr>\n",
              "    <tr>\n",
              "      <th>123</th>\n",
              "      <td>niem</td>\n",
              "      <td>naturheilmittel</td>\n",
              "    </tr>\n",
              "    <tr>\n",
              "      <th>124</th>\n",
              "      <td>olivenöl</td>\n",
              "      <td>naturheilmittel</td>\n",
              "    </tr>\n",
              "    <tr>\n",
              "      <th>125</th>\n",
              "      <td>rosatum</td>\n",
              "      <td>naturheilmittel</td>\n",
              "    </tr>\n",
              "    <tr>\n",
              "      <th>126</th>\n",
              "      <td>kieselsäure</td>\n",
              "      <td>naturheilmittel</td>\n",
              "    </tr>\n",
              "    <tr>\n",
              "      <th>127</th>\n",
              "      <td>sorion</td>\n",
              "      <td>naturheilmittel</td>\n",
              "    </tr>\n",
              "    <tr>\n",
              "      <th>128</th>\n",
              "      <td>urea</td>\n",
              "      <td>naturheilmittel</td>\n",
              "    </tr>\n",
              "    <tr>\n",
              "      <th>129</th>\n",
              "      <td>urea pura</td>\n",
              "      <td>naturheilmittel</td>\n",
              "    </tr>\n",
              "    <tr>\n",
              "      <th>130</th>\n",
              "      <td>harnstoff</td>\n",
              "      <td>naturheilmittel</td>\n",
              "    </tr>\n",
              "    <tr>\n",
              "      <th>131</th>\n",
              "      <td>akupunktur</td>\n",
              "      <td>sonstige therapie</td>\n",
              "    </tr>\n",
              "    <tr>\n",
              "      <th>132</th>\n",
              "      <td>akkupunktur</td>\n",
              "      <td>sonstige therapie</td>\n",
              "    </tr>\n",
              "    <tr>\n",
              "      <th>133</th>\n",
              "      <td>bioresonanz</td>\n",
              "      <td>sonstige therapie</td>\n",
              "    </tr>\n",
              "    <tr>\n",
              "      <th>134</th>\n",
              "      <td>elektrotherapie</td>\n",
              "      <td>sonstige therapie</td>\n",
              "    </tr>\n",
              "    <tr>\n",
              "      <th>135</th>\n",
              "      <td>gaumenmandeln</td>\n",
              "      <td>sonstige therapie</td>\n",
              "    </tr>\n",
              "    <tr>\n",
              "      <th>136</th>\n",
              "      <td>mandeln</td>\n",
              "      <td>sonstige therapie</td>\n",
              "    </tr>\n",
              "    <tr>\n",
              "      <th>137</th>\n",
              "      <td>schmerztherapie</td>\n",
              "      <td>sonstige therapie</td>\n",
              "    </tr>\n",
              "    <tr>\n",
              "      <th>138</th>\n",
              "      <td>stoßtherapie</td>\n",
              "      <td>sonstige therapie</td>\n",
              "    </tr>\n",
              "    <tr>\n",
              "      <th>139</th>\n",
              "      <td>tcm</td>\n",
              "      <td>sonstige therapie</td>\n",
              "    </tr>\n",
              "    <tr>\n",
              "      <th>140</th>\n",
              "      <td>chinesische medizin</td>\n",
              "      <td>sonstige therapie</td>\n",
              "    </tr>\n",
              "    <tr>\n",
              "      <th>141</th>\n",
              "      <td>wassergymnastik</td>\n",
              "      <td>sonstige therapie</td>\n",
              "    </tr>\n",
              "  </tbody>\n",
              "</table>\n",
              "</div>"
            ],
            "text/plain": [
              "                      keyword                     category\n",
              "0                  apremilast  andere systemische therapie\n",
              "1    phosphodiesterase-hemmer  andere systemische therapie\n",
              "2                      otezla  andere systemische therapie\n",
              "3                        pde4  andere systemische therapie\n",
              "4                   inhibitor  andere systemische therapie\n",
              "5              pde4-inhibitor  andere systemische therapie\n",
              "6                 ciclosporin  andere systemische therapie\n",
              "7                    cicloral  andere systemische therapie\n",
              "8                immunosporin  andere systemische therapie\n",
              "9             fumarsäureester  andere systemische therapie\n",
              "10    fumarsäuredimethylester  andere systemische therapie\n",
              "11                   fumaderm  andere systemische therapie\n",
              "12       ethylhydrogenfumarat  andere systemische therapie\n",
              "13                   retinoid  andere systemische therapie\n",
              "14                    retinol  andere systemische therapie\n",
              "15                  vitamin a  andere systemische therapie\n",
              "16                  acitretin  andere systemische therapie\n",
              "17                        b12     andere topische therapie\n",
              "18             cyanocobalamin     andere topische therapie\n",
              "19                  avocadoöl     andere topische therapie\n",
              "20                  dithranol     andere topische therapie\n",
              "21                   cignolin     andere topische therapie\n",
              "22                  anthralin     andere topische therapie\n",
              "23                 psoradexan     andere topische therapie\n",
              "24               salizylsäure     andere topische therapie\n",
              "25                  spirsäure     andere topische therapie\n",
              "26               calcipotriol     andere topische therapie\n",
              "27                 tacalcitol     andere topische therapie\n",
              "28                  vitamin+d     andere topische therapie\n",
              "29               badetherapie                 badetherapie\n",
              "30                     balneo                 badetherapie\n",
              "31                      fango                 badetherapie\n",
              "32              fischtherapie                 badetherapie\n",
              "33                 garra rufa                 badetherapie\n",
              "34               kangalfische                 badetherapie\n",
              "35              knabberfische                 badetherapie\n",
              "36                  saugbarbe                 badetherapie\n",
              "37                  salzbäder                 badetherapie\n",
              "38                    salzbad                 badetherapie\n",
              "39                       sole                 badetherapie\n",
              "40               vulkanwasser                 badetherapie\n",
              "41                 adalimumab                  biologicals\n",
              "42                     humira                  biologicals\n",
              "43                       igg1                  biologicals\n",
              "44                bimekizumab                  biologicals\n",
              "45                 brodalumab                  biologicals\n",
              "46                   kyntheum                  biologicals\n",
              "47                 etanercept                  biologicals\n",
              "48            fusionsproteine                  biologicals\n",
              "49                     enbrel                  biologicals\n",
              "50                 guselkumab                  biologicals\n",
              "51                    tremfya                  biologicals\n",
              "52                 infliximab                  biologicals\n",
              "53                   remicade                  biologicals\n",
              "54                 ixekizumab                  biologicals\n",
              "55                      taltz                  biologicals\n",
              "56                       talz                  biologicals\n",
              "57               risankizumab                  biologicals\n",
              "58                    skyrizi                  biologicals\n",
              "59                secukinumab                  biologicals\n",
              "60                   cosentyx                  biologicals\n",
              "61                  costentix                  biologicals\n",
              "62                   costenyx                  biologicals\n",
              "63                     ain457                  biologicals\n",
              "64           anti-interleukin                  biologicals\n",
              "65                interleukin                  biologicals\n",
              "66              tildrakizumab                  biologicals\n",
              "67                   ilumetri                  biologicals\n",
              "68                     ilumya                  biologicals\n",
              "69                tnf-blocker                  biologicals\n",
              "70                        tnf                  biologicals\n",
              "71                ustekinumab                  biologicals\n",
              "72                    stelara                  biologicals\n",
              "73                   kortison                     kortison\n",
              "74                   cortison                     kortison\n",
              "75                  betagalen           kortison (topisch)\n",
              "76                 clobetasol           kortison (topisch)\n",
              "77                   dermatop           kortison (topisch)\n",
              "78                   enstilar           kortison (topisch)\n",
              "79              kortisoncreme           kortison (topisch)\n",
              "80              cortisoncreme           kortison (topisch)\n",
              "81              kortisonsalbe           kortison (topisch)\n",
              "82              cortisonsalbe           kortison (topisch)\n",
              "83                  momegalen           kortison (topisch)\n",
              "84                     neyzar           kortison (topisch)\n",
              "85                     silkis           kortison (topisch)\n",
              "86                 triamgalen           kortison (topisch)\n",
              "87                     xamiol           kortison (topisch)\n",
              "88              lasertherapie                lichttherapie\n",
              "89              excimer-laser                lichttherapie\n",
              "90                    excimer                lichttherapie\n",
              "91                      xenon                lichttherapie\n",
              "92                    chlorid                lichttherapie\n",
              "93                        gas                lichttherapie\n",
              "94          xenon+chlorid+gas                lichttherapie\n",
              "95                        led                lichttherapie\n",
              "96                blaue+licht                lichttherapie\n",
              "97              lichttherapie                lichttherapie\n",
              "98              phototherapie                lichttherapie\n",
              "99             schmalspektrum                lichttherapie\n",
              "100     ultraviolettstrahlung                lichttherapie\n",
              "101                 strahlung                lichttherapie\n",
              "102               bestrahlung                lichttherapie\n",
              "103                        uv                lichttherapie\n",
              "104            uv+bestrahlung                lichttherapie\n",
              "105                       sup                lichttherapie\n",
              "106                      puva                lichttherapie\n",
              "107              psoralen-uva                lichttherapie\n",
              "108                 psoralen                 lichttherapie\n",
              "109               methotrexat                  methotrexat\n",
              "110                       mtx                  methotrexat\n",
              "111               bendatrexat                  methotrexat\n",
              "112                  lantarel                  methotrexat\n",
              "113                     metex                  methotrexat\n",
              "114                 neotrexat                  methotrexat\n",
              "115                  ayurveda              naturheilmittel\n",
              "116              färberwurzel              naturheilmittel\n",
              "117                  gelbwurz              naturheilmittel\n",
              "118               horvitrigon              naturheilmittel\n",
              "119                     horvi              naturheilmittel\n",
              "120                  horvizym              naturheilmittel\n",
              "121                  indrajao              naturheilmittel\n",
              "122                    iqlind              naturheilmittel\n",
              "123                      niem              naturheilmittel\n",
              "124                  olivenöl              naturheilmittel\n",
              "125                   rosatum              naturheilmittel\n",
              "126               kieselsäure              naturheilmittel\n",
              "127                    sorion              naturheilmittel\n",
              "128                      urea              naturheilmittel\n",
              "129                 urea pura              naturheilmittel\n",
              "130                 harnstoff              naturheilmittel\n",
              "131                akupunktur            sonstige therapie\n",
              "132               akkupunktur            sonstige therapie\n",
              "133               bioresonanz            sonstige therapie\n",
              "134           elektrotherapie            sonstige therapie\n",
              "135             gaumenmandeln            sonstige therapie\n",
              "136                   mandeln            sonstige therapie\n",
              "137           schmerztherapie            sonstige therapie\n",
              "138              stoßtherapie            sonstige therapie\n",
              "139                       tcm            sonstige therapie\n",
              "140       chinesische medizin            sonstige therapie\n",
              "141           wassergymnastik            sonstige therapie"
            ]
          },
          "metadata": {},
          "execution_count": 4
        }
      ]
    },
    {
      "cell_type": "code",
      "metadata": {
        "id": "yHvz_rViMhR7",
        "colab": {
          "base_uri": "https://localhost:8080/",
          "height": 206
        },
        "outputId": "572d4741-d259-4f75-ece5-822679a628f6"
      },
      "source": [
        "from pathlib import Path\n",
        "\n",
        "import pyarrow.parquet as pq\n",
        "\n",
        "data = pq.read_table('psoriasis_all_posts.parquet').to_pandas()\n",
        "data = data[['text', 'forum_id']]\n",
        "data.reset_index(drop=True, inplace=True)\n",
        "\n",
        "data_treatmeants = pd.read_excel('keywords_psoriasis_therapies.xlsx')\n",
        "\n",
        "\n",
        "dict_medical = dict(data_treatmeants.values)\n",
        "data['text'] = data['text'].apply(lambda x: x.lower()).replace(dict_medical, regex=True)\n",
        "\n",
        "data.head()"
      ],
      "execution_count": 5,
      "outputs": [
        {
          "output_type": "execute_result",
          "data": {
            "text/html": [
              "<div>\n",
              "<style scoped>\n",
              "    .dataframe tbody tr th:only-of-type {\n",
              "        vertical-align: middle;\n",
              "    }\n",
              "\n",
              "    .dataframe tbody tr th {\n",
              "        vertical-align: top;\n",
              "    }\n",
              "\n",
              "    .dataframe thead th {\n",
              "        text-align: right;\n",
              "    }\n",
              "</style>\n",
              "<table border=\"1\" class=\"dataframe\">\n",
              "  <thead>\n",
              "    <tr style=\"text-align: right;\">\n",
              "      <th></th>\n",
              "      <th>text</th>\n",
              "      <th>forum_id</th>\n",
              "    </tr>\n",
              "  </thead>\n",
              "  <tbody>\n",
              "    <tr>\n",
              "      <th>0</th>\n",
              "      <td>zunehmend oft höre ich über die problematik der schuppenflechte auch von bekanten und freunden;...</td>\n",
              "      <td>4-community</td>\n",
              "    </tr>\n",
              "    <tr>\n",
              "      <th>1</th>\n",
              "      <td>hallo annamaria,  herzlich willkommen hier im forum fühle dich wohl hier.lese dich ein wenig  e...</td>\n",
              "      <td>4-community</td>\n",
              "    </tr>\n",
              "    <tr>\n",
              "      <th>2</th>\n",
              "      <td>hallo, annamaria -  ich wünsche dir wirklich dauerhafte besserung und wenn es schlimmer werden ...</td>\n",
              "      <td>4-community</td>\n",
              "    </tr>\n",
              "    <tr>\n",
              "      <th>3</th>\n",
              "      <td>auch ich wünsche euch ein schönes und glückliches jahr 2010!              quote</td>\n",
              "      <td>1-allgemeines</td>\n",
              "    </tr>\n",
              "    <tr>\n",
              "      <th>4</th>\n",
              "      <td>ich wünsche allen   frohes neues jahr gb pics              quote</td>\n",
              "      <td>1-allgemeines</td>\n",
              "    </tr>\n",
              "  </tbody>\n",
              "</table>\n",
              "</div>"
            ],
            "text/plain": [
              "                                                                                                  text  \\\n",
              "0   zunehmend oft höre ich über die problematik der schuppenflechte auch von bekanten und freunden;...   \n",
              "1   hallo annamaria,  herzlich willkommen hier im forum fühle dich wohl hier.lese dich ein wenig  e...   \n",
              "2   hallo, annamaria -  ich wünsche dir wirklich dauerhafte besserung und wenn es schlimmer werden ...   \n",
              "3                auch ich wünsche euch ein schönes und glückliches jahr 2010!              quote         \n",
              "4                               ich wünsche allen   frohes neues jahr gb pics              quote         \n",
              "\n",
              "        forum_id  \n",
              "0    4-community  \n",
              "1    4-community  \n",
              "2    4-community  \n",
              "3  1-allgemeines  \n",
              "4  1-allgemeines  "
            ]
          },
          "metadata": {},
          "execution_count": 5
        }
      ]
    },
    {
      "cell_type": "code",
      "metadata": {
        "id": "h_e1oGeNMhR9",
        "colab": {
          "base_uri": "https://localhost:8080/"
        },
        "outputId": "20662ee2-b945-4aeb-d105-db39af9966c1"
      },
      "source": [
        "data.shape"
      ],
      "execution_count": 6,
      "outputs": [
        {
          "output_type": "execute_result",
          "data": {
            "text/plain": [
              "(55888, 2)"
            ]
          },
          "metadata": {},
          "execution_count": 6
        }
      ]
    },
    {
      "cell_type": "code",
      "metadata": {
        "scrolled": true,
        "id": "ZLXnw2JFMhR-",
        "colab": {
          "base_uri": "https://localhost:8080/"
        },
        "outputId": "a9f8583d-316a-4ba4-f20a-40ae9d8e0b65"
      },
      "source": [
        "data['forum_id'].unique()"
      ],
      "execution_count": 7,
      "outputs": [
        {
          "output_type": "execute_result",
          "data": {
            "text/plain": [
              "array(['4-community', '1-allgemeines', '2-behandlung',\n",
              "       '3-klinik-reha-kur-urlaub'], dtype=object)"
            ]
          },
          "metadata": {},
          "execution_count": 7
        }
      ]
    },
    {
      "cell_type": "code",
      "metadata": {
        "id": "ekmmLZJxMhR_",
        "colab": {
          "base_uri": "https://localhost:8080/"
        },
        "outputId": "9316b4d2-fdcf-4fc4-f4ee-a1a7162cf3b7"
      },
      "source": [
        "data['forum_id'].nunique()"
      ],
      "execution_count": 8,
      "outputs": [
        {
          "output_type": "execute_result",
          "data": {
            "text/plain": [
              "4"
            ]
          },
          "metadata": {},
          "execution_count": 8
        }
      ]
    },
    {
      "cell_type": "markdown",
      "metadata": {
        "id": "Q2Uyji9MMhR_"
      },
      "source": [
        "Checking for null values."
      ]
    },
    {
      "cell_type": "code",
      "metadata": {
        "id": "xiDh-Kk7MhSD",
        "colab": {
          "base_uri": "https://localhost:8080/"
        },
        "outputId": "bd6555d3-abd6-43d5-9a0a-5ed844eacf3a"
      },
      "source": [
        "pd.isnull(data['forum_id']).sum()"
      ],
      "execution_count": 9,
      "outputs": [
        {
          "output_type": "execute_result",
          "data": {
            "text/plain": [
              "0"
            ]
          },
          "metadata": {},
          "execution_count": 9
        }
      ]
    },
    {
      "cell_type": "markdown",
      "metadata": {
        "id": "FZvG2Lr2MhSE"
      },
      "source": [
        "No null values are present."
      ]
    },
    {
      "cell_type": "code",
      "metadata": {
        "id": "9NxtJ1jEMhSG",
        "colab": {
          "base_uri": "https://localhost:8080/"
        },
        "outputId": "312bd699-d034-45e5-9bbf-245f7e833e2f"
      },
      "source": [
        "data['text'].apply(lambda x: len(x.split(' '))).sum()"
      ],
      "execution_count": 10,
      "outputs": [
        {
          "output_type": "execute_result",
          "data": {
            "text/plain": [
              "7137722"
            ]
          },
          "metadata": {},
          "execution_count": 10
        }
      ]
    },
    {
      "cell_type": "markdown",
      "metadata": {
        "id": "2CwN_nnYMhSG"
      },
      "source": [
        "We have more than 7 million words in the data."
      ]
    },
    {
      "cell_type": "markdown",
      "metadata": {
        "id": "JWM0Q2kvMhSH"
      },
      "source": [
        "Distribution of classes."
      ]
    },
    {
      "cell_type": "code",
      "metadata": {
        "id": "5HjUJcmyMhSH",
        "colab": {
          "base_uri": "https://localhost:8080/",
          "height": 464
        },
        "outputId": "6df84d27-2f7e-403f-f33a-11c19e148799"
      },
      "source": [
        "plt.figure(figsize=(17,6))\n",
        "sns.countplot(data['forum_id'])"
      ],
      "execution_count": 11,
      "outputs": [
        {
          "output_type": "stream",
          "name": "stderr",
          "text": [
            "/usr/local/lib/python3.7/dist-packages/seaborn/_decorators.py:43: FutureWarning: Pass the following variable as a keyword arg: x. From version 0.12, the only valid positional argument will be `data`, and passing other arguments without an explicit keyword will result in an error or misinterpretation.\n",
            "  FutureWarning\n"
          ]
        },
        {
          "output_type": "execute_result",
          "data": {
            "text/plain": [
              "<matplotlib.axes._subplots.AxesSubplot at 0x7f485f51d5d0>"
            ]
          },
          "metadata": {},
          "execution_count": 11
        },
        {
          "output_type": "display_data",
          "data": {
            "image/png": "[encoded data removed]",
            "text/plain": [
              "<Figure size 1224x432 with 1 Axes>"
            ]
          },
          "metadata": {
            "needs_background": "light"
          }
        }
      ]
    },
    {
      "cell_type": "markdown",
      "metadata": {
        "id": "ivQCvlpHMhSI"
      },
      "source": [
        "From the above visualisation we can see classes are very well balanced."
      ]
    },
    {
      "cell_type": "code",
      "metadata": {
        "id": "dRKwC2aOMhSI"
      },
      "source": [
        "def post_tag(index):\n",
        "    post = data[data.index==index].values[0]\n",
        "    print(post[0])\n",
        "    print('forum_id:', post[1])"
      ],
      "execution_count": 12,
      "outputs": []
    },
    {
      "cell_type": "markdown",
      "metadata": {
        "id": "qCSVPILVMhSJ"
      },
      "source": [
        "Looking few posts and tags."
      ]
    },
    {
      "cell_type": "code",
      "metadata": {
        "id": "oFvjTr2LMhSJ",
        "colab": {
          "base_uri": "https://localhost:8080/"
        },
        "outputId": "5b29f177-9116-4bef-98a9-47f544cc9409"
      },
      "source": [
        "post_tag(5)"
      ],
      "execution_count": 13,
      "outputs": [
        {
          "output_type": "stream",
          "name": "stdout",
          "text": [
            " guck dir den guy bloss an, dem trau ich alles zu,   na na junge frau  was soll das denn heissen:altes-lachen:überlegen::zwinker-alt:  glg  guy:p:p              quote      \n",
            "forum_id: 1-allgemeines\n"
          ]
        }
      ]
    },
    {
      "cell_type": "code",
      "metadata": {
        "id": "nHPBtwTZMhSJ",
        "colab": {
          "base_uri": "https://localhost:8080/"
        },
        "outputId": "d6949ed4-dac8-4345-9439-1f11eab32300"
      },
      "source": [
        "post_tag(11)"
      ],
      "execution_count": 14,
      "outputs": [
        {
          "output_type": "stream",
          "name": "stdout",
          "text": [
            " hallo ihr lieben,  klar mag ich märchen und deshalb hab ich mir die verfilmungen auch angesehen. ich fand sie wirklich gut gemacht. natürlich kenn ich auch die alten verfilmungen, sowohl die deutschen als auch die tschechischen.  liebe grüße und ein frohes neues jahr  bella                      quote      \n",
            "forum_id: 4-community\n"
          ]
        }
      ]
    },
    {
      "cell_type": "code",
      "metadata": {
        "id": "fWp7i2hkMhSK",
        "colab": {
          "base_uri": "https://localhost:8080/"
        },
        "outputId": "da6f96b4-0f9e-41cb-c963-9df96c6cfbc2"
      },
      "source": [
        "post_tag(10000)"
      ],
      "execution_count": 15,
      "outputs": [
        {
          "output_type": "stream",
          "name": "stdout",
          "text": [
            " hallo zusammen, ich  bin die neue, und komme  jetzt öfter...^^.  ich  mag mich hier mal umschauen, und will mal querlesen, wie eure erfahrung mit  der \tpso  so sind.  ich  trage sie seit  ca.6 jahren mit mir rum, anfangs wars so  heftig, das  ich richtig tiefe  löcher  an den ellenbogen und  kneien  hatte,sehr schmerzhafte  angelegenheit damals.  heute schwankt die stärke  der flechte sehr,bei stress kann es innerhalb von  ein - zwei stunden so schlimm werden, das es blutet.  ich bin  vor  anderthalb jahren  nocheinmal mama geworden, und stellte mit grosser freude  fest, das  die gesamten  stellen  abheilten, und  auch nichts  neues nachkam. direkt nach der geburt gings aber wieder los, und  so ist es  leider bis heute.  ich habe ehrlich gesagt nicht mal  eine \t\t\tahnung, welche form ich  habe, ich vermute es ist vulgaris, aber da muss ich noch mal genauer nachforschen.  bislang habe ich  von meinem  arzt (hausarzt)  immer  dermoxin  verschrieben bekommen, und  diese  bei bedarf eingesetzt. weitere schritte habe ich noch nicht unternommen.das soll sich  jedoch nun ändern, ich  will das ganze jetzt aktiv angehen, und nicht mehr  nach dem motto \"ist halt so\" hinnehmen.   edited january 3, 2011 by beefie               quote      \n",
            "forum_id: 4-community\n"
          ]
        }
      ]
    },
    {
      "cell_type": "markdown",
      "metadata": {
        "id": "jI9prphnMhSK"
      },
      "source": [
        "The texts needs to be cleaned up."
      ]
    },
    {
      "cell_type": "code",
      "metadata": {
        "id": "6BElOMsxMhSK"
      },
      "source": [
        "import re\n",
        "import nltk\n",
        "from nltk.corpus import stopwords\n",
        "from bs4 import BeautifulSoup"
      ],
      "execution_count": 16,
      "outputs": []
    },
    {
      "cell_type": "code",
      "metadata": {
        "id": "B8senLlrcGDJ",
        "colab": {
          "base_uri": "https://localhost:8080/"
        },
        "outputId": "f505291d-c61e-4e39-b2c4-bac18e128af8"
      },
      "source": [
        "import nltk\n",
        "nltk.download('stopwords')"
      ],
      "execution_count": 17,
      "outputs": [
        {
          "output_type": "stream",
          "name": "stdout",
          "text": [
            "[nltk_data] Downloading package stopwords to /root/nltk_data...\n",
            "[nltk_data]   Package stopwords is already up-to-date!\n"
          ]
        },
        {
          "output_type": "execute_result",
          "data": {
            "text/plain": [
              "True"
            ]
          },
          "metadata": {},
          "execution_count": 17
        }
      ]
    },
    {
      "cell_type": "code",
      "metadata": {
        "id": "FApFMbPhMhSL",
        "colab": {
          "base_uri": "https://localhost:8080/"
        },
        "outputId": "42af101a-9246-46e5-bed3-d62d2944f601"
      },
      "source": [
        "nltk.download('punkt')\n",
        "nltk.download('stopwords')\n",
        "\n",
        "stemmer = SnowballStemmer(\"german\")\n",
        "stop_words = set(stopwords.words(\"german\"))\n",
        "\n",
        "\n",
        "def clean_text(text, for_embedding=False):\n",
        "    \"\"\"\n",
        "        - remove any html tags (< /br> often found)\n",
        "        - Keep only ASCII + European Chars and whitespace, no digits\n",
        "        - remove single letter chars\n",
        "        - convert all whitespaces (tabs etc.) to single wspace\n",
        "        if not for embedding (but e.g. tdf-idf):\n",
        "        - all lowercase\n",
        "        - remove stopwords, punctuation and stemm\n",
        "    \"\"\"\n",
        "    RE_WSPACE = re.compile(r\"\\s+\", re.IGNORECASE)\n",
        "    RE_TAGS = re.compile(r\"<[^>]+>\")\n",
        "    RE_ASCII = re.compile(r\"[^A-Za-zÀ-ž ]\", re.IGNORECASE)\n",
        "    RE_SINGLECHAR = re.compile(r\"\\b[A-Za-zÀ-ž]\\b\", re.IGNORECASE)\n",
        "    if for_embedding:\n",
        "        # Keep punctuation\n",
        "        RE_ASCII = re.compile(r\"[^A-Za-zÀ-ž,.!? ]\", re.IGNORECASE)\n",
        "        RE_SINGLECHAR = re.compile(r\"\\b[A-Za-zÀ-ž,.!?]\\b\", re.IGNORECASE)\n",
        "\n",
        "    text = re.sub(RE_TAGS, \" \", text)\n",
        "    text = re.sub(RE_ASCII, \" \", text)\n",
        "    text = re.sub(RE_SINGLECHAR, \" \", text)\n",
        "    text = re.sub(RE_WSPACE, \" \", text)\n",
        "\n",
        "    word_tokens = word_tokenize(text)\n",
        "    words_tokens_lower = [word.lower() for word in word_tokens]\n",
        "\n",
        "    if for_embedding:\n",
        "        # no stemming, lowering and punctuation / stop words removal\n",
        "        words_filtered = word_tokens\n",
        "    else:\n",
        "        words_filtered = [\n",
        "            stemmer.stem(word) for word in words_tokens_lower if word not in stop_words\n",
        "        ]\n",
        "\n",
        "    text_clean = \" \".join(words_filtered)\n",
        "    return text_clean"
      ],
      "execution_count": 18,
      "outputs": [
        {
          "output_type": "stream",
          "name": "stdout",
          "text": [
            "[nltk_data] Downloading package punkt to /root/nltk_data...\n",
            "[nltk_data]   Unzipping tokenizers/punkt.zip.\n",
            "[nltk_data] Downloading package stopwords to /root/nltk_data...\n",
            "[nltk_data]   Package stopwords is already up-to-date!\n"
          ]
        }
      ]
    },
    {
      "cell_type": "code",
      "metadata": {
        "id": "B7xbtYUbMhSL"
      },
      "source": [
        "data['text'] = data['text'].apply(clean_text)"
      ],
      "execution_count": 19,
      "outputs": []
    },
    {
      "cell_type": "code",
      "metadata": {
        "id": "5UZ_vBt_MhSM",
        "colab": {
          "base_uri": "https://localhost:8080/"
        },
        "outputId": "3e90f2ef-8201-4c27-c81b-2af5b7e3cfd2"
      },
      "source": [
        "post_tag(5)"
      ],
      "execution_count": 20,
      "outputs": [
        {
          "output_type": "stream",
          "name": "stdout",
          "text": [
            "guck guy bloss trau na na jung frau heiss alt lach uberleg zwink alt glg guy quot\n",
            "forum_id: 1-allgemeines\n"
          ]
        }
      ]
    },
    {
      "cell_type": "code",
      "metadata": {
        "id": "i7X85TWEMhSM",
        "colab": {
          "base_uri": "https://localhost:8080/"
        },
        "outputId": "ea324e33-d7dc-45ab-9dde-cf59700abb90"
      },
      "source": [
        "post_tag(11)"
      ],
      "execution_count": 21,
      "outputs": [
        {
          "output_type": "stream",
          "name": "stdout",
          "text": [
            "hallo lieb klar mag march deshalb verfilm angeseh fand wirklich gut gemacht natur kenn alt verfilm sowohl deutsch tschechisch lieb gruss froh neu jahr bella quot\n",
            "forum_id: 4-community\n"
          ]
        }
      ]
    },
    {
      "cell_type": "code",
      "metadata": {
        "scrolled": true,
        "id": "EZ02gPGpMhSM",
        "colab": {
          "base_uri": "https://localhost:8080/"
        },
        "outputId": "ec5ec71d-ccf9-498d-92ca-e37718022a5c"
      },
      "source": [
        "post_tag(10000)"
      ],
      "execution_count": 22,
      "outputs": [
        {
          "output_type": "stream",
          "name": "stdout",
          "text": [
            "hallo zusamm neu komm oft mag mal umschau mal querles erfahr pso trag seit ca jahr rum anfang war heftig richtig tief loch ellenbog kneien schmerzhaft angeleg damal heut schwankt stark flecht stress innerhalb zwei stund schlimm blutet anderthalb jahr nocheinmal mama geword stellt gross freud fest gesamt stell abheilt neu nachkam direkt geburt ging los leid heut ehrlich gesagt mal ahnung form vermut vulgaris mal genau nachforsch bislang arzt hausarzt imm dermoxin verschrieb bekomm bedarf eingesetzt weit schritt unternomm jedoch and ganz aktiv angeh mehr motto halt hinnehm edited january by beefi quot\n",
            "forum_id: 4-community\n"
          ]
        }
      ]
    },
    {
      "cell_type": "code",
      "metadata": {
        "id": "x0LzUw4DMhSN",
        "colab": {
          "base_uri": "https://localhost:8080/"
        },
        "outputId": "7d5f319d-3a92-45b3-e126-562cf0d9baa7"
      },
      "source": [
        "data['text'].apply(lambda x: len(x.split(\" \"))).sum()"
      ],
      "execution_count": 23,
      "outputs": [
        {
          "output_type": "execute_result",
          "data": {
            "text/plain": [
              "2780101"
            ]
          },
          "metadata": {},
          "execution_count": 23
        }
      ]
    },
    {
      "cell_type": "markdown",
      "metadata": {
        "id": "HhqbtaS2MhSN"
      },
      "source": [
        "Much better."
      ]
    },
    {
      "cell_type": "markdown",
      "metadata": {
        "id": "WWtYvubjMhSN"
      },
      "source": [
        "Now, we have over 2.7 million words to work with."
      ]
    },
    {
      "cell_type": "markdown",
      "metadata": {
        "id": "CfwYkPyPMhSN"
      },
      "source": [
        "Splitting the dataset."
      ]
    },
    {
      "cell_type": "code",
      "metadata": {
        "id": "6SDO57pzMhSO"
      },
      "source": [
        "from sklearn.model_selection import train_test_split"
      ],
      "execution_count": 24,
      "outputs": []
    },
    {
      "cell_type": "code",
      "metadata": {
        "id": "dYixmuuuMhSO"
      },
      "source": [
        "X = data['text']\n",
        "y = data['forum_id']"
      ],
      "execution_count": 25,
      "outputs": []
    },
    {
      "cell_type": "code",
      "metadata": {
        "id": "WKl7Kz2_MhSO"
      },
      "source": [
        "X_train, X_test, y_train, y_test = train_test_split(X,y, test_size=0.2, random_state=0)"
      ],
      "execution_count": 26,
      "outputs": []
    },
    {
      "cell_type": "code",
      "metadata": {
        "id": "mxVgQQE-MhSO",
        "colab": {
          "base_uri": "https://localhost:8080/"
        },
        "outputId": "6a1115fa-7610-4a88-d6ed-8dfa328b58cf"
      },
      "source": [
        "X_train.shape"
      ],
      "execution_count": 27,
      "outputs": [
        {
          "output_type": "execute_result",
          "data": {
            "text/plain": [
              "(44710,)"
            ]
          },
          "metadata": {},
          "execution_count": 27
        }
      ]
    },
    {
      "cell_type": "code",
      "metadata": {
        "id": "pKYsqT6yMhSO",
        "colab": {
          "base_uri": "https://localhost:8080/"
        },
        "outputId": "90c85baa-78ce-4310-d57d-8589372656bf"
      },
      "source": [
        "X_test.shape"
      ],
      "execution_count": 28,
      "outputs": [
        {
          "output_type": "execute_result",
          "data": {
            "text/plain": [
              "(11178,)"
            ]
          },
          "metadata": {},
          "execution_count": 28
        }
      ]
    },
    {
      "cell_type": "code",
      "metadata": {
        "id": "O37ota90MhSP",
        "colab": {
          "base_uri": "https://localhost:8080/"
        },
        "outputId": "c8cc6f73-8a88-411b-ea6a-e7dceec046ed"
      },
      "source": [
        "X_test.head()"
      ],
      "execution_count": 29,
      "outputs": [
        {
          "output_type": "execute_result",
          "data": {
            "text/plain": [
              "41490    hallo jp vielleicht braucht steffi moral geseh eierlikor schokobech lieb steffi stell john paul ...\n",
              "24690    tap heilpraktikerin gemacht darauf spezialisiert ruck hal farb pink erklart tap durchblut angere...\n",
              "32494    hallo skyla sag hallo neu diagnos donnerstag bekomm les gerad thread nie gedank gemacht kopf ell...\n",
              "50184    hallo jasminka lies mal link steht schon mal wesent unterschied drin einzig fehlt psoriasis uber...\n",
              "8757     hey ja bluttupf gluck steh meist fruh nacht uhr wach geword kratz aufgestand ne halb stund bad g...\n",
              "Name: text, dtype: object"
            ]
          },
          "metadata": {},
          "execution_count": 29
        }
      ]
    },
    {
      "cell_type": "markdown",
      "metadata": {
        "id": "92HIF2lmMhSP"
      },
      "source": [
        "The next steps includes feature engineering and model building using pipeline."
      ]
    },
    {
      "cell_type": "markdown",
      "metadata": {
        "id": "0boy1893MhSP"
      },
      "source": [
        "# Naive Bayes classifier for multinomial models."
      ]
    },
    {
      "cell_type": "code",
      "metadata": {
        "id": "S0dTVB-AMhSP"
      },
      "source": [
        "from sklearn.naive_bayes import MultinomialNB\n",
        "from sklearn.pipeline import Pipeline\n",
        "from sklearn.feature_extraction.text import CountVectorizer\n",
        "from sklearn.feature_extraction.text import TfidfTransformer"
      ],
      "execution_count": 30,
      "outputs": []
    },
    {
      "cell_type": "code",
      "metadata": {
        "id": "hnbkpimHMhSQ",
        "colab": {
          "base_uri": "https://localhost:8080/"
        },
        "outputId": "5c620341-5285-4a2e-c60c-d8aa88b4fed6"
      },
      "source": [
        "nb = Pipeline([('vect', CountVectorizer()),\n",
        "               ('tfidf', TfidfTransformer()),\n",
        "               ('clf', MultinomialNB()),\n",
        "              ])\n",
        "nb.fit(X_train, y_train)"
      ],
      "execution_count": 31,
      "outputs": [
        {
          "output_type": "execute_result",
          "data": {
            "text/plain": [
              "Pipeline(steps=[('vect', CountVectorizer()), ('tfidf', TfidfTransformer()),\n",
              "                ('clf', MultinomialNB())])"
            ]
          },
          "metadata": {},
          "execution_count": 31
        }
      ]
    },
    {
      "cell_type": "code",
      "metadata": {
        "id": "fkHkudauMhSQ"
      },
      "source": [
        "from sklearn.metrics import classification_report, confusion_matrix, accuracy_score"
      ],
      "execution_count": 32,
      "outputs": []
    },
    {
      "cell_type": "code",
      "metadata": {
        "id": "UrhXqyscMhSQ"
      },
      "source": [
        "y_pred = nb.predict(X_test)"
      ],
      "execution_count": 33,
      "outputs": []
    },
    {
      "cell_type": "code",
      "metadata": {
        "id": "YhPY_AyKMhSQ",
        "colab": {
          "base_uri": "https://localhost:8080/"
        },
        "outputId": "25a447e8-3a66-4d24-eb50-07969382e8c6"
      },
      "source": [
        "print(confusion_matrix(y_pred,y_test))"
      ],
      "execution_count": 34,
      "outputs": [
        {
          "output_type": "stream",
          "name": "stdout",
          "text": [
            "[[4092 1856  601 1905]\n",
            " [  28  237    0   21]\n",
            " [   0    0    6    0]\n",
            " [ 323  215  168 1726]]\n"
          ]
        }
      ]
    },
    {
      "cell_type": "code",
      "metadata": {
        "id": "csXifnqsMhSQ",
        "colab": {
          "base_uri": "https://localhost:8080/"
        },
        "outputId": "882ea04d-8b47-4666-942d-9976a49f9625"
      },
      "source": [
        "print(classification_report(y_pred, y_test,target_names=data['forum_id'].unique()))\n",
        "print(accuracy_score(y_pred,y_test))"
      ],
      "execution_count": 35,
      "outputs": [
        {
          "output_type": "stream",
          "name": "stdout",
          "text": [
            "                          precision    recall  f1-score   support\n",
            "\n",
            "             4-community       0.92      0.48      0.63      8454\n",
            "           1-allgemeines       0.10      0.83      0.18       286\n",
            "            2-behandlung       0.01      1.00      0.02         6\n",
            "3-klinik-reha-kur-urlaub       0.47      0.71      0.57      2432\n",
            "\n",
            "                accuracy                           0.54     11178\n",
            "               macro avg       0.38      0.76      0.35     11178\n",
            "            weighted avg       0.80      0.54      0.61     11178\n",
            "\n",
            "0.542225800679907\n"
          ]
        }
      ]
    },
    {
      "cell_type": "markdown",
      "metadata": {
        "id": "qVkQ04PHMhSQ"
      },
      "source": [
        "# Linear support vector machine."
      ]
    },
    {
      "cell_type": "code",
      "metadata": {
        "id": "qKMCU14XMhSR"
      },
      "source": [
        "from sklearn.linear_model import SGDClassifier"
      ],
      "execution_count": 36,
      "outputs": []
    },
    {
      "cell_type": "code",
      "metadata": {
        "id": "m_A0B9g-MhSR",
        "colab": {
          "base_uri": "https://localhost:8080/"
        },
        "outputId": "e70880fd-9494-4a2f-b7ff-1ae0c38d48ab"
      },
      "source": [
        "svm = Pipeline([('vect',CountVectorizer()),\n",
        "               ('tfidf',TfidfTransformer()),\n",
        "               ('svm_clf', SGDClassifier(loss='hinge', penalty='l2',alpha=0.001,n_jobs=-1,random_state=0,max_iter=5))])\n",
        "svm.fit(X_train,y_train)             "
      ],
      "execution_count": 37,
      "outputs": [
        {
          "output_type": "stream",
          "name": "stderr",
          "text": [
            "/usr/local/lib/python3.7/dist-packages/sklearn/linear_model/_stochastic_gradient.py:700: ConvergenceWarning: Maximum number of iteration reached before convergence. Consider increasing max_iter to improve the fit.\n",
            "  ConvergenceWarning,\n"
          ]
        },
        {
          "output_type": "execute_result",
          "data": {
            "text/plain": [
              "Pipeline(steps=[('vect', CountVectorizer()), ('tfidf', TfidfTransformer()),\n",
              "                ('svm_clf',\n",
              "                 SGDClassifier(alpha=0.001, max_iter=5, n_jobs=-1,\n",
              "                               random_state=0))])"
            ]
          },
          "metadata": {},
          "execution_count": 37
        }
      ]
    },
    {
      "cell_type": "code",
      "metadata": {
        "id": "KbnfnXabMhSS",
        "colab": {
          "base_uri": "https://localhost:8080/"
        },
        "outputId": "f27d9503-a0ae-42aa-e359-e676e4e9771e"
      },
      "source": [
        "%%time\n",
        "y_pred_svm = svm.predict(X_test)\n",
        "print(accuracy_score(y_test,y_pred_svm))\n",
        "print(classification_report(y_test,y_pred_svm, target_names=data['forum_id'].unique()))"
      ],
      "execution_count": 38,
      "outputs": [
        {
          "output_type": "stream",
          "name": "stdout",
          "text": [
            "0.596886741814278\n",
            "                          precision    recall  f1-score   support\n",
            "\n",
            "             4-community       0.56      0.77      0.65      4443\n",
            "           1-allgemeines       0.70      0.31      0.43      2308\n",
            "            2-behandlung       0.73      0.47      0.58       775\n",
            "3-klinik-reha-kur-urlaub       0.61      0.59      0.60      3652\n",
            "\n",
            "                accuracy                           0.60     11178\n",
            "               macro avg       0.65      0.54      0.56     11178\n",
            "            weighted avg       0.62      0.60      0.58     11178\n",
            "\n",
            "CPU times: user 773 ms, sys: 4.99 ms, total: 778 ms\n",
            "Wall time: 775 ms\n"
          ]
        }
      ]
    },
    {
      "cell_type": "markdown",
      "metadata": {
        "id": "Ohz5jYRLMhSS"
      },
      "source": [
        "# Logistic regression."
      ]
    },
    {
      "cell_type": "code",
      "metadata": {
        "id": "5LGWY_93MhST"
      },
      "source": [
        "from sklearn.linear_model import LogisticRegression"
      ],
      "execution_count": 39,
      "outputs": []
    },
    {
      "cell_type": "code",
      "metadata": {
        "id": "g3wwjmdaMhSU"
      },
      "source": [
        "lr = Pipeline([('vect',CountVectorizer()),\n",
        "               ('tfidf', TfidfTransformer()),\n",
        "               ('lr_clf', LogisticRegression(n_jobs=-1,C=0.01))])"
      ],
      "execution_count": 40,
      "outputs": []
    },
    {
      "cell_type": "code",
      "metadata": {
        "id": "fnQRxw7DMhSU",
        "colab": {
          "base_uri": "https://localhost:8080/"
        },
        "outputId": "51bbc7ca-4567-4c3f-ef70-f833879d9713"
      },
      "source": [
        "lr.fit(X_train,y_train)"
      ],
      "execution_count": 41,
      "outputs": [
        {
          "output_type": "execute_result",
          "data": {
            "text/plain": [
              "Pipeline(steps=[('vect', CountVectorizer()), ('tfidf', TfidfTransformer()),\n",
              "                ('lr_clf', LogisticRegression(C=0.01, n_jobs=-1))])"
            ]
          },
          "metadata": {},
          "execution_count": 41
        }
      ]
    },
    {
      "cell_type": "code",
      "metadata": {
        "id": "n2B4eXqQMhSV"
      },
      "source": [
        "y_pred_lr = lr.predict(X_test)"
      ],
      "execution_count": 42,
      "outputs": []
    },
    {
      "cell_type": "code",
      "metadata": {
        "id": "kOpMego4MhSV",
        "colab": {
          "base_uri": "https://localhost:8080/"
        },
        "outputId": "3c422808-4329-46e9-d506-35181316bc7b"
      },
      "source": [
        "print(accuracy_score(y_pred_lr,y_test))\n",
        "print(classification_report(y_pred_lr,y_test,target_names= data['forum_id'].unique()))"
      ],
      "execution_count": 43,
      "outputs": [
        {
          "output_type": "stream",
          "name": "stdout",
          "text": [
            "0.47566648774378245\n",
            "                          precision    recall  f1-score   support\n",
            "\n",
            "             4-community       0.92      0.44      0.59      9340\n",
            "           1-allgemeines       0.00      1.00      0.00         1\n",
            "            2-behandlung       0.00      0.00      0.00         0\n",
            "3-klinik-reha-kur-urlaub       0.33      0.67      0.45      1837\n",
            "\n",
            "                accuracy                           0.48     11178\n",
            "               macro avg       0.31      0.53      0.26     11178\n",
            "            weighted avg       0.82      0.48      0.57     11178\n",
            "\n"
          ]
        },
        {
          "output_type": "stream",
          "name": "stderr",
          "text": [
            "/usr/local/lib/python3.7/dist-packages/sklearn/metrics/_classification.py:1308: UndefinedMetricWarning: Recall and F-score are ill-defined and being set to 0.0 in labels with no true samples. Use `zero_division` parameter to control this behavior.\n",
            "  _warn_prf(average, modifier, msg_start, len(result))\n",
            "/usr/local/lib/python3.7/dist-packages/sklearn/metrics/_classification.py:1308: UndefinedMetricWarning: Recall and F-score are ill-defined and being set to 0.0 in labels with no true samples. Use `zero_division` parameter to control this behavior.\n",
            "  _warn_prf(average, modifier, msg_start, len(result))\n",
            "/usr/local/lib/python3.7/dist-packages/sklearn/metrics/_classification.py:1308: UndefinedMetricWarning: Recall and F-score are ill-defined and being set to 0.0 in labels with no true samples. Use `zero_division` parameter to control this behavior.\n",
            "  _warn_prf(average, modifier, msg_start, len(result))\n"
          ]
        }
      ]
    },
    {
      "cell_type": "markdown",
      "metadata": {
        "id": "tjq1VHTNMhSV"
      },
      "source": [
        "# Random Forest."
      ]
    },
    {
      "cell_type": "code",
      "metadata": {
        "id": "F8prsh4hMhSW"
      },
      "source": [
        "from sklearn.ensemble import RandomForestClassifier"
      ],
      "execution_count": 44,
      "outputs": []
    },
    {
      "cell_type": "code",
      "metadata": {
        "id": "p96y3mcjMhSW",
        "colab": {
          "base_uri": "https://localhost:8080/"
        },
        "outputId": "2e22b846-f75c-4226-ba9d-9dda3f4fea32"
      },
      "source": [
        "rfc = Pipeline([('vect', CountVectorizer()),\n",
        "                ('tfidf', TfidfTransformer()),\n",
        "                ('rfc', RandomForestClassifier(n_estimators=200, criterion='entropy'))])\n",
        "rfc.fit(X_train,y_train)"
      ],
      "execution_count": 45,
      "outputs": [
        {
          "output_type": "execute_result",
          "data": {
            "text/plain": [
              "Pipeline(steps=[('vect', CountVectorizer()), ('tfidf', TfidfTransformer()),\n",
              "                ('rfc',\n",
              "                 RandomForestClassifier(criterion='entropy',\n",
              "                                        n_estimators=200))])"
            ]
          },
          "metadata": {},
          "execution_count": 45
        }
      ]
    },
    {
      "cell_type": "code",
      "metadata": {
        "id": "prOqMW7yMhSW"
      },
      "source": [
        "y_pred_rfc = rfc.predict(X_test)"
      ],
      "execution_count": 46,
      "outputs": []
    },
    {
      "cell_type": "code",
      "metadata": {
        "id": "cDekDFI5MhSX",
        "colab": {
          "base_uri": "https://localhost:8080/"
        },
        "outputId": "7fc81ca7-7099-413c-d643-795866e2950b"
      },
      "source": [
        "print(accuracy_score(y_pred_rfc,y_test))\n",
        "print(classification_report(y_pred_rfc,y_test))"
      ],
      "execution_count": 47,
      "outputs": [
        {
          "output_type": "stream",
          "name": "stdout",
          "text": [
            "0.5977813562354625\n",
            "                          precision    recall  f1-score   support\n",
            "\n",
            "           1-allgemeines       0.82      0.54      0.65      6708\n",
            "            2-behandlung       0.27      0.75      0.39       824\n",
            "3-klinik-reha-kur-urlaub       0.38      0.83      0.52       349\n",
            "             4-community       0.59      0.65      0.62      3297\n",
            "\n",
            "                accuracy                           0.60     11178\n",
            "               macro avg       0.51      0.69      0.54     11178\n",
            "            weighted avg       0.70      0.60      0.62     11178\n",
            "\n"
          ]
        }
      ]
    },
    {
      "cell_type": "markdown",
      "metadata": {
        "id": "wIhdHO8YMhSX"
      },
      "source": [
        "# Creating bag of words with Keras."
      ]
    },
    {
      "cell_type": "code",
      "metadata": {
        "id": "AXSnTF8PMhSX"
      },
      "source": [
        "from keras import utils\n",
        "from keras.models import Sequential\n",
        "from keras.layers import Dense, Dropout, Activation\n",
        "from keras.preprocessing import text, sequence"
      ],
      "execution_count": 48,
      "outputs": []
    },
    {
      "cell_type": "code",
      "metadata": {
        "id": "na45jjQQMhSX"
      },
      "source": [
        "train_size = int(len(data) * 0.8)"
      ],
      "execution_count": 49,
      "outputs": []
    },
    {
      "cell_type": "code",
      "metadata": {
        "id": "c_t83MDNMhSX",
        "colab": {
          "base_uri": "https://localhost:8080/"
        },
        "outputId": "33077448-4630-4aca-b133-72797114538c"
      },
      "source": [
        "print('Train size: %d' %train_size)\n",
        "print('Test_size: %d' %(len(data)-train_size))"
      ],
      "execution_count": 50,
      "outputs": [
        {
          "output_type": "stream",
          "name": "stdout",
          "text": [
            "Train size: 44710\n",
            "Test_size: 11178\n"
          ]
        }
      ]
    },
    {
      "cell_type": "code",
      "metadata": {
        "id": "fwrADChYMhSY"
      },
      "source": [
        "train_post = data['text'][:train_size]\n",
        "train_tag = data['forum_id'][:train_size]\n",
        "test_post = data['text'][train_size:]\n",
        "test_tag = data['forum_id'][train_size:]"
      ],
      "execution_count": 51,
      "outputs": []
    },
    {
      "cell_type": "code",
      "metadata": {
        "id": "zPIVytAdMhSY",
        "colab": {
          "base_uri": "https://localhost:8080/"
        },
        "outputId": "c71926ed-7354-4502-dd2c-4387ed96d315"
      },
      "source": [
        "train_post.head()"
      ],
      "execution_count": 52,
      "outputs": [
        {
          "output_type": "execute_result",
          "data": {
            "text/plain": [
              "0    zunehm oft hor problemat schuppenflecht bekant freund fing freien tag informi forum gestoss eig ...\n",
              "1             hallo annamaria herzlich willkomm forum fuhl wohl les wenig frag hast drauf los klaus quot\n",
              "2    hallo annamaria wunsch wirklich dauerhaft besser schlimm sollt gut dermatolog such schon toll fo...\n",
              "3                                                                       wunsch schon glucklich jahr quot\n",
              "4                                                                      wunsch froh neu jahr gb pics quot\n",
              "Name: text, dtype: object"
            ]
          },
          "metadata": {},
          "execution_count": 52
        }
      ]
    },
    {
      "cell_type": "code",
      "metadata": {
        "id": "-SxE8e9EMhSY",
        "colab": {
          "base_uri": "https://localhost:8080/"
        },
        "outputId": "64507c06-bc95-4545-a320-6d83eb16ea0f"
      },
      "source": [
        "train_tag.value_counts()"
      ],
      "execution_count": 53,
      "outputs": [
        {
          "output_type": "execute_result",
          "data": {
            "text/plain": [
              "1-allgemeines               18286\n",
              "4-community                 15110\n",
              "2-behandlung                 8004\n",
              "3-klinik-reha-kur-urlaub     3310\n",
              "Name: forum_id, dtype: int64"
            ]
          },
          "metadata": {},
          "execution_count": 53
        }
      ]
    },
    {
      "cell_type": "code",
      "metadata": {
        "id": "xHT4sdIzMhSY",
        "colab": {
          "base_uri": "https://localhost:8080/"
        },
        "outputId": "8566584d-afc8-479d-f4c4-09362040a503"
      },
      "source": [
        "test_post.head()"
      ],
      "execution_count": 54,
      "outputs": [
        {
          "output_type": "execute_result",
          "data": {
            "text/plain": [
              "44710    schrieb gangstabean bereit hautarzt frankfurt angeruf entwed zurzeit aufnahmestopp telefon gefra...\n",
              "44711    crem verschrieb bekomm meist kortison kortison mehr arm irgendwann imm aufgeriss wurd insgesamt ...\n",
              "44712    hallo gangstabeanss uni frankfurt grund genannt warum medikament verschreib uni erlang ambulanz ...\n",
              "44713    wunderchon gut morg lieb leidensgenoss uberschrift bereit entnehm zurzeit probl arzt weig beispi...\n",
              "44714    hallo gangstabeanss weist uberhaupt teu taltz weist hoch budget arzt versteh schreib einfach arz...\n",
              "Name: text, dtype: object"
            ]
          },
          "metadata": {},
          "execution_count": 54
        }
      ]
    },
    {
      "cell_type": "code",
      "metadata": {
        "id": "pLru9ROpMhSY",
        "colab": {
          "base_uri": "https://localhost:8080/"
        },
        "outputId": "df8b40d5-8e88-491e-9d34-43219d00ee0d"
      },
      "source": [
        "test_tag.head()"
      ],
      "execution_count": 55,
      "outputs": [
        {
          "output_type": "execute_result",
          "data": {
            "text/plain": [
              "44710    1-allgemeines\n",
              "44711    1-allgemeines\n",
              "44712    1-allgemeines\n",
              "44713    1-allgemeines\n",
              "44714    1-allgemeines\n",
              "Name: forum_id, dtype: object"
            ]
          },
          "metadata": {},
          "execution_count": 55
        }
      ]
    },
    {
      "cell_type": "code",
      "metadata": {
        "id": "DYOMAnmvMhSY"
      },
      "source": [
        "token = text.Tokenizer(num_words=1000,char_level=False)"
      ],
      "execution_count": 56,
      "outputs": []
    },
    {
      "cell_type": "code",
      "metadata": {
        "id": "Lqi3ShFcMhSZ"
      },
      "source": [
        "token.fit_on_texts(train_post)"
      ],
      "execution_count": 57,
      "outputs": []
    },
    {
      "cell_type": "code",
      "metadata": {
        "id": "dEJSSdr4MhSZ"
      },
      "source": [
        "x_train = token.texts_to_matrix(train_post)\n",
        "x_test = token.texts_to_matrix(test_post)"
      ],
      "execution_count": 58,
      "outputs": []
    },
    {
      "cell_type": "code",
      "metadata": {
        "id": "shx2bYnXMhSZ",
        "colab": {
          "base_uri": "https://localhost:8080/"
        },
        "outputId": "c8089103-1756-4bde-e2db-34a49c8c2561"
      },
      "source": [
        "print(x_train)\n",
        "print(x_train.shape)"
      ],
      "execution_count": 59,
      "outputs": [
        {
          "output_type": "stream",
          "name": "stdout",
          "text": [
            "[[0. 1. 0. ... 0. 0. 0.]\n",
            " [0. 1. 0. ... 0. 0. 0.]\n",
            " [0. 1. 0. ... 0. 0. 0.]\n",
            " ...\n",
            " [0. 1. 0. ... 0. 0. 0.]\n",
            " [0. 1. 1. ... 0. 0. 0.]\n",
            " [0. 1. 0. ... 0. 0. 0.]]\n",
            "(44710, 1000)\n"
          ]
        }
      ]
    },
    {
      "cell_type": "code",
      "metadata": {
        "id": "qa_WpdoZMhSZ",
        "colab": {
          "base_uri": "https://localhost:8080/"
        },
        "outputId": "80dbab38-03cc-4a14-d2f7-b77ce7f348ca"
      },
      "source": [
        "print(x_test)\n",
        "print(x_test.shape)"
      ],
      "execution_count": 60,
      "outputs": [
        {
          "output_type": "stream",
          "name": "stdout",
          "text": [
            "[[0. 1. 1. ... 0. 0. 0.]\n",
            " [0. 1. 1. ... 0. 0. 0.]\n",
            " [0. 1. 1. ... 0. 0. 0.]\n",
            " ...\n",
            " [0. 1. 0. ... 0. 0. 0.]\n",
            " [0. 1. 0. ... 0. 0. 0.]\n",
            " [0. 1. 0. ... 0. 0. 0.]]\n",
            "(11178, 1000)\n"
          ]
        }
      ]
    },
    {
      "cell_type": "code",
      "metadata": {
        "id": "u9tY5yRcMhSZ"
      },
      "source": [
        "from sklearn.preprocessing import LabelEncoder"
      ],
      "execution_count": 61,
      "outputs": []
    },
    {
      "cell_type": "code",
      "metadata": {
        "id": "AI3pM5pPMhSZ"
      },
      "source": [
        "encoder = LabelEncoder()"
      ],
      "execution_count": 62,
      "outputs": []
    },
    {
      "cell_type": "code",
      "metadata": {
        "id": "UIrQbH5XMhSa"
      },
      "source": [
        "Y_train = encoder.fit_transform(train_tag)\n",
        "Y_test = encoder.transform(test_tag)"
      ],
      "execution_count": 63,
      "outputs": []
    },
    {
      "cell_type": "code",
      "metadata": {
        "id": "zTvihH8NMhSa",
        "colab": {
          "base_uri": "https://localhost:8080/"
        },
        "outputId": "4ea86689-cdc7-481b-9998-ebd5ecfc9127"
      },
      "source": [
        "print(Y_train)\n",
        "print(Y_train.shape)"
      ],
      "execution_count": 64,
      "outputs": [
        {
          "output_type": "stream",
          "name": "stdout",
          "text": [
            "[3 3 3 ... 0 0 0]\n",
            "(44710,)\n"
          ]
        }
      ]
    },
    {
      "cell_type": "code",
      "metadata": {
        "id": "rD6OwvMVMhSa",
        "colab": {
          "base_uri": "https://localhost:8080/"
        },
        "outputId": "ef6843a5-efc7-47c0-9ab9-46910fa70399"
      },
      "source": [
        "print(Y_test)\n",
        "print(Y_test.shape)"
      ],
      "execution_count": 65,
      "outputs": [
        {
          "output_type": "stream",
          "name": "stdout",
          "text": [
            "[0 0 0 ... 0 0 0]\n",
            "(11178,)\n"
          ]
        }
      ]
    },
    {
      "cell_type": "code",
      "metadata": {
        "id": "fXgHEnnIW3k3"
      },
      "source": [
        "num_classes = np.max(Y_train) + 1"
      ],
      "execution_count": 66,
      "outputs": []
    },
    {
      "cell_type": "code",
      "metadata": {
        "id": "OMF27b1afpOD"
      },
      "source": [
        "from tensorflow.keras import utils as np_utils\n",
        "\n",
        "\n",
        "Y_train = np_utils.to_categorical(Y_train, num_classes)\n",
        "Y_test = np_utils.to_categorical(Y_test, num_classes)"
      ],
      "execution_count": 67,
      "outputs": []
    },
    {
      "cell_type": "code",
      "metadata": {
        "id": "rZi-zAXHMhSa",
        "colab": {
          "base_uri": "https://localhost:8080/"
        },
        "outputId": "1266547b-dd65-4ab8-cf0f-cc0f2bde60c2"
      },
      "source": [
        "print(Y_test)\n",
        "print(Y_test.shape)\n",
        "print(Y_train)\n",
        "print(Y_train.shape)"
      ],
      "execution_count": 68,
      "outputs": [
        {
          "output_type": "stream",
          "name": "stdout",
          "text": [
            "[[1. 0. 0. 0.]\n",
            " [1. 0. 0. 0.]\n",
            " [1. 0. 0. 0.]\n",
            " ...\n",
            " [1. 0. 0. 0.]\n",
            " [1. 0. 0. 0.]\n",
            " [1. 0. 0. 0.]]\n",
            "(11178, 4)\n",
            "[[0. 0. 0. 1.]\n",
            " [0. 0. 0. 1.]\n",
            " [0. 0. 0. 1.]\n",
            " ...\n",
            " [1. 0. 0. 0.]\n",
            " [1. 0. 0. 0.]\n",
            " [1. 0. 0. 0.]]\n",
            "(44710, 4)\n"
          ]
        }
      ]
    },
    {
      "cell_type": "markdown",
      "metadata": {
        "id": "C_8sAYybMhSb"
      },
      "source": [
        "Building model."
      ]
    },
    {
      "cell_type": "code",
      "metadata": {
        "id": "5I_BovIiMhSb"
      },
      "source": [
        "model = Sequential()\n",
        "model.add(Dense(512, input_shape=(1000,), activation='relu'))\n",
        "model.add(Dropout(0.5))\n",
        "model.add(Dense(256, activation='relu'))\n",
        "model.add(Dropout(0.4))\n",
        "model.add(Dense(num_classes))\n",
        "model.add(Activation('softmax'))\n",
        "\n",
        "model.compile(loss='categorical_crossentropy',\n",
        "              optimizer='adam',\n",
        "              metrics=['accuracy'])"
      ],
      "execution_count": 69,
      "outputs": []
    },
    {
      "cell_type": "code",
      "metadata": {
        "id": "OfCppmQYMhSb",
        "colab": {
          "base_uri": "https://localhost:8080/"
        },
        "outputId": "78f62075-bfd7-41d2-f436-a173ecd5fd64"
      },
      "source": [
        "%%time\n",
        "history = model.fit(x_train,Y_train, batch_size=32, epochs=20, validation_data=(x_test, Y_test))\n",
        "\n"
      ],
      "execution_count": 70,
      "outputs": [
        {
          "output_type": "stream",
          "name": "stdout",
          "text": [
            "Epoch 1/20\n",
            "1398/1398 [==============================] - 9s 5ms/step - loss: 1.0281 - accuracy: 0.5397 - val_loss: 1.0417 - val_accuracy: 0.5245\n",
            "Epoch 2/20\n",
            "1398/1398 [==============================] - 7s 5ms/step - loss: 0.9127 - accuracy: 0.6017 - val_loss: 1.0334 - val_accuracy: 0.5197\n",
            "Epoch 3/20\n",
            "1398/1398 [==============================] - 7s 5ms/step - loss: 0.8205 - accuracy: 0.6482 - val_loss: 1.0331 - val_accuracy: 0.5492\n",
            "Epoch 4/20\n",
            "1398/1398 [==============================] - 7s 5ms/step - loss: 0.7152 - accuracy: 0.6996 - val_loss: 1.0899 - val_accuracy: 0.5428\n",
            "Epoch 5/20\n",
            "1398/1398 [==============================] - 7s 5ms/step - loss: 0.6066 - accuracy: 0.7532 - val_loss: 1.2100 - val_accuracy: 0.5337\n",
            "Epoch 6/20\n",
            "1398/1398 [==============================] - 6s 5ms/step - loss: 0.5171 - accuracy: 0.7928 - val_loss: 1.3047 - val_accuracy: 0.5311\n",
            "Epoch 7/20\n",
            "1398/1398 [==============================] - 7s 5ms/step - loss: 0.4481 - accuracy: 0.8236 - val_loss: 1.3985 - val_accuracy: 0.5265\n",
            "Epoch 8/20\n",
            "1398/1398 [==============================] - 6s 5ms/step - loss: 0.3976 - accuracy: 0.8462 - val_loss: 1.5184 - val_accuracy: 0.5238\n",
            "Epoch 9/20\n",
            "1398/1398 [==============================] - 6s 5ms/step - loss: 0.3647 - accuracy: 0.8586 - val_loss: 1.5912 - val_accuracy: 0.5206\n",
            "Epoch 10/20\n",
            "1398/1398 [==============================] - 7s 5ms/step - loss: 0.3334 - accuracy: 0.8715 - val_loss: 1.6405 - val_accuracy: 0.5296\n",
            "Epoch 11/20\n",
            "1398/1398 [==============================] - 6s 5ms/step - loss: 0.3118 - accuracy: 0.8798 - val_loss: 1.7136 - val_accuracy: 0.5268\n",
            "Epoch 12/20\n",
            "1398/1398 [==============================] - 6s 5ms/step - loss: 0.2853 - accuracy: 0.8918 - val_loss: 1.9337 - val_accuracy: 0.5213\n",
            "Epoch 13/20\n",
            "1398/1398 [==============================] - 7s 5ms/step - loss: 0.2781 - accuracy: 0.8942 - val_loss: 1.8454 - val_accuracy: 0.5262\n",
            "Epoch 14/20\n",
            "1398/1398 [==============================] - 7s 5ms/step - loss: 0.2554 - accuracy: 0.9034 - val_loss: 1.8851 - val_accuracy: 0.5238\n",
            "Epoch 15/20\n",
            "1398/1398 [==============================] - 7s 5ms/step - loss: 0.2497 - accuracy: 0.9075 - val_loss: 1.9200 - val_accuracy: 0.5273\n",
            "Epoch 16/20\n",
            "1398/1398 [==============================] - 7s 5ms/step - loss: 0.2350 - accuracy: 0.9121 - val_loss: 2.0416 - val_accuracy: 0.5220\n",
            "Epoch 17/20\n",
            "1398/1398 [==============================] - 7s 5ms/step - loss: 0.2241 - accuracy: 0.9172 - val_loss: 2.0686 - val_accuracy: 0.5257\n",
            "Epoch 18/20\n",
            "1398/1398 [==============================] - 7s 5ms/step - loss: 0.2152 - accuracy: 0.9195 - val_loss: 2.0863 - val_accuracy: 0.5219\n",
            "Epoch 19/20\n",
            "1398/1398 [==============================] - 7s 5ms/step - loss: 0.2099 - accuracy: 0.9225 - val_loss: 2.1412 - val_accuracy: 0.5226\n",
            "Epoch 20/20\n",
            "1398/1398 [==============================] - 7s 5ms/step - loss: 0.1991 - accuracy: 0.9273 - val_loss: 2.1955 - val_accuracy: 0.5278\n",
            "CPU times: user 2min 15s, sys: 23.7 s, total: 2min 39s\n",
            "Wall time: 2min 17s\n"
          ]
        }
      ]
    },
    {
      "cell_type": "code",
      "metadata": {
        "id": "cQrmLxoNMhSc",
        "colab": {
          "base_uri": "https://localhost:8080/"
        },
        "outputId": "c604c431-bb8c-4914-8783-9059f886ae4c"
      },
      "source": [
        "score = model.evaluate(x_test, Y_test,\n",
        "                       batch_size=32, verbose=1)\n",
        "print('Test accuracy:', score[1])"
      ],
      "execution_count": 71,
      "outputs": [
        {
          "output_type": "stream",
          "name": "stdout",
          "text": [
            "350/350 [==============================] - 1s 3ms/step - loss: 2.1955 - accuracy: 0.5278\n",
            "Test accuracy: 0.5278224945068359\n"
          ]
        }
      ]
    },
    {
      "cell_type": "code",
      "metadata": {
        "id": "Cn0bWEd4TTd_"
      },
      "source": [
        "import matplotlib.pyplot as plt\n",
        "import seaborn as sns\n",
        "sns.set_style(\"darkgrid\")"
      ],
      "execution_count": 72,
      "outputs": []
    },
    {
      "cell_type": "code",
      "metadata": {
        "id": "QNmco3WPfwyI",
        "colab": {
          "base_uri": "https://localhost:8080/",
          "height": 264
        },
        "outputId": "85b69573-7e08-40ae-fa3a-e538e4026707"
      },
      "source": [
        "loss = history.history[\"loss\"]\n",
        "val_loss = history.history[\"val_loss\"]\n",
        "epochs = range(1, len(loss) + 1)\n",
        "plt.plot(epochs, loss, label=\"train\")\n",
        "plt.plot(epochs, val_loss, label=\"validate\")\n",
        "plt.legend()\n",
        "plt.show()"
      ],
      "execution_count": 73,
      "outputs": [
        {
          "output_type": "display_data",
          "data": {
            "image/png": "[encoded data removed]",
            "text/plain": [
              "<Figure size 432x288 with 1 Axes>"
            ]
          },
          "metadata": {}
        }
      ]
    },
    {
      "cell_type": "code",
      "metadata": {
        "colab": {
          "base_uri": "https://localhost:8080/",
          "height": 264
        },
        "id": "-mFpR3g5S7iv",
        "outputId": "bde7b367-08de-4563-d671-643f59af56b3"
      },
      "source": [
        "acc = history.history[\"accuracy\"]\n",
        "val_acc = history.history[\"val_accuracy\"]\n",
        "epochs = range(1, len(loss) + 1)\n",
        "plt.plot(epochs, acc, label=\"train\")\n",
        "plt.plot(epochs, val_acc, label=\"validate\")\n",
        "plt.legend()\n",
        "plt.show()"
      ],
      "execution_count": 74,
      "outputs": [
        {
          "output_type": "display_data",
          "data": {
            "image/png": "[encoded data removed]",
            "text/plain": [
              "<Figure size 432x288 with 1 Axes>"
            ]
          },
          "metadata": {}
        }
      ]
    },
    {
      "cell_type": "markdown",
      "metadata": {
        "id": "A2XV1gghfTBQ"
      },
      "source": [
        "## **Transfer learning using transformers (German Bert):**"
      ]
    },
    {
      "cell_type": "code",
      "metadata": {
        "id": "k-tH1B74ZA7s",
        "colab": {
          "base_uri": "https://localhost:8080/"
        },
        "outputId": "c419d5d8-ad97-4acd-f0a3-6e45384bea84"
      },
      "source": [
        "pip install transformers"
      ],
      "execution_count": 75,
      "outputs": [
        {
          "output_type": "stream",
          "name": "stdout",
          "text": [
            "Collecting transformers\n",
            "  Downloading transformers-4.12.5-py3-none-any.whl (3.1 MB)\n",
            "\u001b[K     |████████████████████████████████| 3.1 MB 4.1 MB/s \n",
            "\u001b[?25hRequirement already satisfied: tqdm>=4.27 in /usr/local/lib/python3.7/dist-packages (from transformers) (4.62.3)\n",
            "Requirement already satisfied: numpy>=1.17 in /usr/local/lib/python3.7/dist-packages (from transformers) (1.19.5)\n",
            "Collecting tokenizers<0.11,>=0.10.1\n",
            "  Downloading tokenizers-0.10.3-cp37-cp37m-manylinux_2_5_x86_64.manylinux1_x86_64.manylinux_2_12_x86_64.manylinux2010_x86_64.whl (3.3 MB)\n",
            "\u001b[K     |████████████████████████████████| 3.3 MB 41.0 MB/s \n",
            "\u001b[?25hRequirement already satisfied: requests in /usr/local/lib/python3.7/dist-packages (from transformers) (2.23.0)\n",
            "Collecting huggingface-hub<1.0,>=0.1.0\n",
            "  Downloading huggingface_hub-0.1.2-py3-none-any.whl (59 kB)\n",
            "\u001b[K     |████████████████████████████████| 59 kB 6.5 MB/s \n",
            "\u001b[?25hCollecting pyyaml>=5.1\n",
            "  Downloading PyYAML-6.0-cp37-cp37m-manylinux_2_5_x86_64.manylinux1_x86_64.manylinux_2_12_x86_64.manylinux2010_x86_64.whl (596 kB)\n",
            "\u001b[K     |████████████████████████████████| 596 kB 44.8 MB/s \n",
            "\u001b[?25hRequirement already satisfied: importlib-metadata in /usr/local/lib/python3.7/dist-packages (from transformers) (4.8.2)\n",
            "Collecting sacremoses\n",
            "  Downloading sacremoses-0.0.46-py3-none-any.whl (895 kB)\n",
            "\u001b[K     |████████████████████████████████| 895 kB 40.9 MB/s \n",
            "\u001b[?25hRequirement already satisfied: regex!=2019.12.17 in /usr/local/lib/python3.7/dist-packages (from transformers) (2019.12.20)\n",
            "Requirement already satisfied: packaging>=20.0 in /usr/local/lib/python3.7/dist-packages (from transformers) (21.3)\n",
            "Requirement already satisfied: filelock in /usr/local/lib/python3.7/dist-packages (from transformers) (3.4.0)\n",
            "Requirement already satisfied: typing-extensions>=3.7.4.3 in /usr/local/lib/python3.7/dist-packages (from huggingface-hub<1.0,>=0.1.0->transformers) (3.10.0.2)\n",
            "Requirement already satisfied: pyparsing!=3.0.5,>=2.0.2 in /usr/local/lib/python3.7/dist-packages (from packaging>=20.0->transformers) (3.0.6)\n",
            "Requirement already satisfied: zipp>=0.5 in /usr/local/lib/python3.7/dist-packages (from importlib-metadata->transformers) (3.6.0)\n",
            "Requirement already satisfied: urllib3!=1.25.0,!=1.25.1,<1.26,>=1.21.1 in /usr/local/lib/python3.7/dist-packages (from requests->transformers) (1.24.3)\n",
            "Requirement already satisfied: certifi>=2017.4.17 in /usr/local/lib/python3.7/dist-packages (from requests->transformers) (2021.10.8)\n",
            "Requirement already satisfied: chardet<4,>=3.0.2 in /usr/local/lib/python3.7/dist-packages (from requests->transformers) (3.0.4)\n",
            "Requirement already satisfied: idna<3,>=2.5 in /usr/local/lib/python3.7/dist-packages (from requests->transformers) (2.10)\n",
            "Requirement already satisfied: six in /usr/local/lib/python3.7/dist-packages (from sacremoses->transformers) (1.15.0)\n",
            "Requirement already satisfied: click in /usr/local/lib/python3.7/dist-packages (from sacremoses->transformers) (7.1.2)\n",
            "Requirement already satisfied: joblib in /usr/local/lib/python3.7/dist-packages (from sacremoses->transformers) (1.1.0)\n",
            "Installing collected packages: pyyaml, tokenizers, sacremoses, huggingface-hub, transformers\n",
            "  Attempting uninstall: pyyaml\n",
            "    Found existing installation: PyYAML 3.13\n",
            "    Uninstalling PyYAML-3.13:\n",
            "      Successfully uninstalled PyYAML-3.13\n",
            "Successfully installed huggingface-hub-0.1.2 pyyaml-6.0 sacremoses-0.0.46 tokenizers-0.10.3 transformers-4.12.5\n"
          ]
        }
      ]
    },
    {
      "cell_type": "code",
      "metadata": {
        "id": "hbwLXM2bYlIc"
      },
      "source": [
        "\n",
        "import pandas as pd\n",
        "import numpy as np\n",
        "import matplotlib.pyplot as plt\n",
        "%matplotlib inline\n",
        "import seaborn as sns\n",
        "\n",
        "from sklearn.model_selection import train_test_split\n",
        "from sklearn.preprocessing import LabelBinarizer, LabelEncoder\n",
        "from sklearn.metrics import confusion_matrix, accuracy_score\n",
        "\n",
        "import tensorflow as tf\n",
        "from tensorflow import keras \n",
        "from tensorflow.keras.layers import Dense, Input\n",
        "from tensorflow.keras.optimizers import Adam\n",
        "from keras.models import Model\n",
        "from tensorflow.keras import utils as np_utils\n",
        "from keras.utils.np_utils import to_categorical\n",
        "\n",
        "import transformers\n",
        "from transformers import AutoTokenizer,TFDistilBertModel, DistilBertConfig\n",
        "from transformers import TFAutoModel\n",
        "\n",
        "import warnings\n",
        "warnings.filterwarnings(\"ignore\")"
      ],
      "execution_count": 76,
      "outputs": []
    },
    {
      "cell_type": "code",
      "metadata": {
        "id": "Ym-WR0Z1Y4GM"
      },
      "source": [
        "df = data.copy()"
      ],
      "execution_count": 77,
      "outputs": []
    },
    {
      "cell_type": "code",
      "metadata": {
        "colab": {
          "base_uri": "https://localhost:8080/"
        },
        "id": "v4wsxN_gZlBd",
        "outputId": "be44a1bc-a42e-45f3-8456-395ee2a3943e"
      },
      "source": [
        "df.info()"
      ],
      "execution_count": 78,
      "outputs": [
        {
          "output_type": "stream",
          "name": "stdout",
          "text": [
            "<class 'pandas.core.frame.DataFrame'>\n",
            "RangeIndex: 55888 entries, 0 to 55887\n",
            "Data columns (total 2 columns):\n",
            " #   Column    Non-Null Count  Dtype \n",
            "---  ------    --------------  ----- \n",
            " 0   text      55888 non-null  object\n",
            " 1   forum_id  55888 non-null  object\n",
            "dtypes: object(2)\n",
            "memory usage: 873.4+ KB\n"
          ]
        }
      ]
    },
    {
      "cell_type": "markdown",
      "metadata": {
        "id": "V-Wbp_DGZbke"
      },
      "source": [
        "# Data preparation\n",
        "Spliting the data into train and test sets"
      ]
    },
    {
      "cell_type": "code",
      "metadata": {
        "id": "4FcNO-ajZV5X"
      },
      "source": [
        "X = df['text']\n",
        "y = df['forum_id']"
      ],
      "execution_count": 79,
      "outputs": []
    },
    {
      "cell_type": "code",
      "metadata": {
        "id": "FFRNW5L2ZWwX"
      },
      "source": [
        "X_train,X_test,y_train,y_test = train_test_split(X, y, test_size=0.2, random_state = 0)"
      ],
      "execution_count": 80,
      "outputs": []
    },
    {
      "cell_type": "code",
      "metadata": {
        "id": "tMFHg5CeZwkz"
      },
      "source": [
        "encoder = LabelEncoder()\n",
        "encoder.fit(y_train)\n",
        "\n",
        "y_train = encoder.transform(y_train)\n",
        "y_test = encoder.transform(y_test)\n",
        "\n",
        "num_classes = np.max(y_train) + 1\n",
        "y_train = tf.keras.utils.to_categorical(y_train, num_classes)\n",
        "y_test = tf.keras.utils.to_categorical(y_test, num_classes)"
      ],
      "execution_count": 81,
      "outputs": []
    },
    {
      "cell_type": "markdown",
      "metadata": {
        "id": "S9JuZX9RZ2aQ"
      },
      "source": [
        "# German BERT model\n",
        "\n",
        "## Stats\n",
        "In addition to the recently released German BERT model by deepset we provide another German-language model.\n",
        "\n",
        "The source data for the model consists of a recent Wikipedia dump, EU Bookshop corpus, Open Subtitles, CommonCrawl, ParaCrawl and News Crawl. This results in a dataset with a size of 16GB and 2,350,234,427 tokens.\n",
        "\n",
        "For sentence splitting, we use spacy. Our preprocessing steps (sentence piece model for vocab generation) follow those used for training SciBERT. The model is trained with an initial sequence length of 512 subwords and was performed for 1.5M steps.\n",
        "\n",
        "This release includes both cased and uncased models."
      ]
    },
    {
      "cell_type": "code",
      "metadata": {
        "colab": {
          "base_uri": "https://localhost:8080/"
        },
        "id": "BkZhPpLLZypZ",
        "outputId": "5e32a81d-db53-4616-e004-a2d1b276194a"
      },
      "source": [
        "# Creating tokenizer\n",
        "\n",
        "from transformers import AutoModel, AutoTokenizer\n",
        "\n",
        "# Creating tokenizer\n",
        "tokenizer = AutoTokenizer.from_pretrained('dbmdz/bert-base-german-cased')\n",
        "bert = TFAutoModel.from_pretrained('dbmdz/bert-base-german-cased')"
      ],
      "execution_count": 111,
      "outputs": [
        {
          "output_type": "stream",
          "name": "stderr",
          "text": [
            "Some layers from the model checkpoint at dbmdz/bert-base-german-cased were not used when initializing TFBertModel: ['mlm___cls']\n",
            "- This IS expected if you are initializing TFBertModel from the checkpoint of a model trained on another task or with another architecture (e.g. initializing a BertForSequenceClassification model from a BertForPreTraining model).\n",
            "- This IS NOT expected if you are initializing TFBertModel from the checkpoint of a model that you expect to be exactly identical (initializing a BertForSequenceClassification model from a BertForSequenceClassification model).\n",
            "All the layers of TFBertModel were initialized from the model checkpoint at dbmdz/bert-base-german-cased.\n",
            "If your task is similar to the task the model of the checkpoint was trained on, you can already use TFBertModel for predictions without further training.\n"
          ]
        }
      ]
    },
    {
      "cell_type": "code",
      "metadata": {
        "id": "3FK-HDBXaIOk"
      },
      "source": [
        "for layer in bert.layers:\n",
        "      layer.trainable = True"
      ],
      "execution_count": 112,
      "outputs": []
    },
    {
      "cell_type": "markdown",
      "metadata": {
        "id": "VtOSzF9qaMk2"
      },
      "source": [
        "The function which allows to encode our dataset with tokenizer. We have decided on a maximum sentence length is 100 (maxlen)."
      ]
    },
    {
      "cell_type": "code",
      "metadata": {
        "id": "8u91fIfEaJwF"
      },
      "source": [
        "# Tokenization of the data\n",
        "def text_encode(text, tokenizer, max_len=100):\n",
        "    tokens = text.apply(lambda x: tokenizer(x,return_tensors='tf', \n",
        "                                            truncation=True,\n",
        "                                            padding='max_length',\n",
        "                                            max_length=max_len, \n",
        "                                            add_special_tokens=True))\n",
        "    input_ids= []\n",
        "    attention_mask=[]\n",
        "    for item in tokens:\n",
        "        input_ids.append(item['input_ids'])\n",
        "        attention_mask.append(item['attention_mask'])\n",
        "    input_ids, attention_mask=np.squeeze(input_ids), np.squeeze(attention_mask)\n",
        "\n",
        "    return [input_ids,attention_mask]"
      ],
      "execution_count": 113,
      "outputs": []
    },
    {
      "cell_type": "markdown",
      "metadata": {
        "id": "U-mPxBqzaV2g"
      },
      "source": [
        "Based on this encodings for our training and testing datasets are generated as follows:"
      ]
    },
    {
      "cell_type": "code",
      "metadata": {
        "id": "W3TrL0PXaT4K"
      },
      "source": [
        "X_train_input_ids, X_train_attention_mask = text_encode(X_train, tokenizer, max_len=100)\n",
        "X_test_input_ids, X_test_attention_mask = text_encode(X_test, tokenizer, max_len=100)"
      ],
      "execution_count": 114,
      "outputs": []
    },
    {
      "cell_type": "markdown",
      "metadata": {
        "id": "OP9ZQY5yabHw"
      },
      "source": [
        "# **Build the model**\n",
        "We create a Distilbert model with pretrained weights and then we add two Dense layers with Dropout layer."
      ]
    },
    {
      "cell_type": "code",
      "metadata": {
        "id": "snLP7a-HaYEr"
      },
      "source": [
        "# model creation\n",
        "def build_model(bert_model, maxlen=100):\n",
        "   input_ids = tf.keras.Input(shape=(maxlen,),dtype=tf.int32, name='input_ids')\n",
        "   attention_mask = tf.keras.Input(shape=(maxlen,),dtype=tf.int32, name='attention_mask')\n",
        "\n",
        "   sequence_output = bert_model(input_ids,attention_mask=attention_mask)\n",
        "   output = sequence_output[0][:,0,:]\n",
        "   output = tf.keras.layers.Dense(32,activation='relu')(output)\n",
        "   output = tf.keras.layers.Dropout(0.2)(output)\n",
        "   output = tf.keras.layers.Dense(4,activation='softmax')(output)\n",
        "\n",
        "   model = tf.keras.models.Model(inputs = [input_ids,attention_mask], outputs = [output])\n",
        "   model.compile(Adam(lr=1e-5), loss='categorical_crossentropy', metrics=['accuracy'])\n",
        "\n",
        "   return model"
      ],
      "execution_count": 115,
      "outputs": []
    },
    {
      "cell_type": "code",
      "metadata": {
        "id": "covbvWE0agWV"
      },
      "source": [
        "model = build_model(bert, maxlen=100)"
      ],
      "execution_count": 116,
      "outputs": []
    },
    {
      "cell_type": "code",
      "metadata": {
        "colab": {
          "base_uri": "https://localhost:8080/"
        },
        "id": "t3Cc4zbbaq_0",
        "outputId": "05c14a43-12bb-4cb4-d2d2-a93ff26a5ec2"
      },
      "source": [
        "history = model.fit(\n",
        "    [X_train_input_ids, X_train_attention_mask],\n",
        "    y_train,\n",
        "    batch_size=32,\n",
        "    validation_data=([X_test_input_ids, X_test_attention_mask], y_test),\n",
        "    epochs=10)"
      ],
      "execution_count": null,
      "outputs": [
        {
          "output_type": "stream",
          "name": "stdout",
          "text": [
            "Epoch 1/10\n",
            "1398/1398 [==============================] - 722s 505ms/step - loss: 1.4124 - accuracy: 0.3550 - val_loss: 1.2527 - val_accuracy: 0.3886\n",
            "Epoch 2/10\n",
            "1398/1398 [==============================] - 699s 500ms/step - loss: 1.2826 - accuracy: 0.3789 - val_loss: 1.2437 - val_accuracy: 0.3817\n",
            "Epoch 3/10\n",
            "1398/1398 [==============================] - 694s 497ms/step - loss: 1.2637 - accuracy: 0.3826 - val_loss: 1.2403 - val_accuracy: 0.3847\n",
            "Epoch 4/10\n",
            "1193/1398 [========================>.....] - ETA: 1:22 - loss: 1.2557 - accuracy: 0.3845"
          ]
        }
      ]
    },
    {
      "cell_type": "code",
      "metadata": {
        "id": "OBaY_RjfatH5"
      },
      "source": [
        "def plot_graphs(history, string):\n",
        "  plt.plot(history.history[string])\n",
        "  plt.plot(history.history['val_'+string])\n",
        "  plt.xlabel(\"Epochs\")\n",
        "  plt.ylabel(string)\n",
        "  plt.legend([string, 'val_'+string])\n",
        "  plt.show()"
      ],
      "execution_count": null,
      "outputs": []
    },
    {
      "cell_type": "code",
      "metadata": {
        "id": "Jb1jn1udbBXY"
      },
      "source": [
        "plot_graphs(history, \"accuracy\")\n",
        "plot_graphs(history, \"loss\")"
      ],
      "execution_count": null,
      "outputs": []
    },
    {
      "cell_type": "markdown",
      "metadata": {
        "id": "lKfque_3bExm"
      },
      "source": [
        "Predictions on a test set:"
      ]
    },
    {
      "cell_type": "code",
      "metadata": {
        "id": "-ms8gI-KbCxp"
      },
      "source": [
        "loss, accuracy = model.evaluate([X_test_input_ids, X_test_attention_mask], y_test)\n",
        "print('Test accuracy :', accuracy)"
      ],
      "execution_count": null,
      "outputs": []
    },
    {
      "cell_type": "markdown",
      "metadata": {
        "id": "ECisulSzbKmB"
      },
      "source": [
        "# **Summary**\n",
        "For our analysis we have used a pretrained Distilbert model to resolve our text classification problem. After trained model we achieved an accuracy on the test set equal to 93 % and it is a similar result in comparison to previous models that we have used. We also tested a several models by adding layers and increase numbers of epochs but we didn't achieve a better accuracy."
      ]
    },
    {
      "cell_type": "code",
      "metadata": {
        "id": "HbUJikBVWR5N"
      },
      "source": [
        "!pip3 freeze > requirements.txt  # Python3"
      ],
      "execution_count": null,
      "outputs": []
    },
    {
      "cell_type": "code",
      "metadata": {
        "id": "lcMh9T6tlld6"
      },
      "source": [
        ""
      ],
      "execution_count": null,
      "outputs": []
    }
  ]
}